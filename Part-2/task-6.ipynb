{
 "cells": [
  {
   "cell_type": "code",
   "execution_count": 2,
   "metadata": {},
   "outputs": [
    {
     "output_type": "stream",
     "name": "stdout",
     "text": "[0 1]\n"
    }
   ],
   "source": [
    "import pandas as pd\n",
    "import numpy as np\n",
    "import matplotlib.pyplot as plt\n",
    "from PCA import PCA_Component\n",
    "\n",
    "data_1 = pd.read_csv(\"data/BATADAL_dataset03.csv\")\n",
    "data_2 = pd.read_csv(\"data/BATADAL_dataset04.csv\", delimiter=r\",\\s{0,1}\")\n",
    "test_data = pd.read_csv(\"data/BATADAL_test_dataset.csv\")\n",
    "\n",
    "data_1[\"DATETIME\"] = pd.to_datetime(data_1.DATETIME)\n",
    "data_2[\"DATETIME\"] = pd.to_datetime(data_2.DATETIME)\n",
    "test_data[\"DATETIME\"] = pd.to_datetime(test_data.DATETIME)\n",
    "data_2['ATT_FLAG'] = data_2[\"ATT_FLAG\"].replace(-999, 0)    # replace -999 with 0 for convenience\n",
    "\n",
    "signals = ['L_T1', 'L_T2', 'L_T3', 'L_T4', 'L_T5', 'L_T6', 'L_T7',\n",
    "       'F_PU1', 'S_PU1', 'F_PU2', 'S_PU2', 'F_PU3', 'S_PU3', 'F_PU4', 'S_PU4',\n",
    "       'F_PU5', 'S_PU5', 'F_PU6', 'S_PU6', 'F_PU7', 'S_PU7', 'F_PU8', 'S_PU8',\n",
    "       'F_PU9', 'S_PU9', 'F_PU10', 'S_PU10', 'F_PU11', 'S_PU11', 'F_V2',\n",
    "       'S_V2', 'P_J280', 'P_J269', 'P_J300', 'P_J256', 'P_J289', 'P_J415',\n",
    "       'P_J302', 'P_J306', 'P_J307', 'P_J317', 'P_J14', 'P_J422']"
   ]
  },
  {
   "cell_type": "markdown",
   "metadata": {},
   "source": [
    "### Make test data `ATT_FLAG` column as described in `Attacks_TestDataset.png`\n",
    "\n",
    "*NOTE:* We will make the state of no-arrack as 0 instead of -999"
   ]
  },
  {
   "cell_type": "code",
   "execution_count": 20,
   "metadata": {},
   "outputs": [
    {
     "output_type": "stream",
     "name": "stdout",
     "text": "0.0    1.0\nName: ATT_FLAG, dtype: float64\n0.0    0.966491\n1.0    0.033509\nName: ATT_FLAG, dtype: float64\n0.0    0.946865\n1.0    0.053135\nName: ATT_FLAG, dtype: float64\n0.0    0.946865\n1.0    0.053135\nName: ATT_FLAG, dtype: float64\n0.0    0.943035\n1.0    0.056965\nName: ATT_FLAG, dtype: float64\n0.0    0.895165\n1.0    0.104835\nName: ATT_FLAG, dtype: float64\n0.0    0.884634\n1.0    0.115366\nName: ATT_FLAG, dtype: float64\n0.0    0.870273\n1.0    0.129727\nName: ATT_FLAG, dtype: float64\n(8761, 43)\n(2089, 43)\n(2089,)\n"
    }
   ],
   "source": [
    "import datetime\n",
    "test_data['ATT_FLAG'] = pd.Series(np.zeros(test_data.shape[0])) # default 0 (no-attack)\n",
    "\n",
    "# start setting values\n",
    "attack_times = [\n",
    "    [pd.Timestamp(\"2017-01-16T09\"), pd.Timestamp(\"2017-01-19T06\")],\n",
    "    [pd.Timestamp(\"2017-01-30T08\"), pd.Timestamp(\"2017-02-02T00\")],\n",
    "    [pd.Timestamp(\"2017-02-09T03\"), pd.Timestamp(\"2017-02-10T09\")],\n",
    "    [pd.Timestamp(\"2017-02-12T01\"), pd.Timestamp(\"2017-02-13T07\")],\n",
    "    [pd.Timestamp(\"2017-02-24T05\"), pd.Timestamp(\"2017-02-28T08\")],\n",
    "    [pd.Timestamp(\"2017-03-10T14\"), pd.Timestamp(\"2017-03-13T21\")],\n",
    "    [pd.Timestamp(\"2017-03-25T20\"), pd.Timestamp(\"2017-03-27T01\")]\n",
    "]\n",
    "\n",
    "# showing how distribution of 0s and 1s changes\n",
    "print(test_data['ATT_FLAG'].value_counts(normalize=True))\n",
    "for times in attack_times:\n",
    "    indexes = np.where(test_data['DATETIME'].between(times[0], times[1], inclusive=True))[0]\n",
    "    test_data['ATT_FLAG'][indexes] = 1 # set 1 (attack)\n",
    "    print(test_data['ATT_FLAG'].value_counts(normalize=True))\n",
    "\n",
    "# make train X and test X Y\n",
    "X_train = data_1[signals].to_numpy()\n",
    "X_test = test_data[signals].to_numpy()\n",
    "Y_test = test_data['ATT_FLAG'].to_numpy()\n",
    "\n",
    "print(X_train.shape)\n",
    "print(X_test.shape)\n",
    "print(Y_test.shape)"
   ]
  },
  {
   "cell_type": "code",
   "execution_count": 18,
   "metadata": {},
   "outputs": [
    {
     "output_type": "stream",
     "name": "stdout",
     "text": "(2089, 43)\n(2089,)\n"
    }
   ],
   "source": []
  },
  {
   "cell_type": "code",
   "execution_count": null,
   "metadata": {},
   "outputs": [],
   "source": []
  }
 ],
 "metadata": {
  "language_info": {
   "codemirror_mode": {
    "name": "ipython",
    "version": 3
   },
   "file_extension": ".py",
   "mimetype": "text/x-python",
   "name": "python",
   "nbconvert_exporter": "python",
   "pygments_lexer": "ipython3",
   "version": "3.8.2-final"
  },
  "orig_nbformat": 2,
  "kernelspec": {
   "name": "python38264bitcyberdavenv61b31f3773384c529a9ec592ee662801",
   "display_name": "Python 3.8.2 64-bit ('CyberDA': venv)"
  }
 },
 "nbformat": 4,
 "nbformat_minor": 2
}