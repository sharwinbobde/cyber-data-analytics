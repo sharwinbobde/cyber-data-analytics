{
 "cells": [
  {
   "cell_type": "code",
   "execution_count": 1,
   "metadata": {},
   "outputs": [],
   "source": [
    "from sklearn.cluster import KMeans\n",
    "import seaborn as sns\n",
    "from scipy.stats import spearmanr\n",
    "from functools import reduce\n",
    "import pandas as pd\n",
    "import matplotlib.pyplot as plt\n",
    "from tqdm import tqdm\n",
    "from preprocessing import *\n",
    "from sklearn.preprocessing import LabelEncoder"
   ]
  },
  {
   "cell_type": "code",
   "execution_count": 2,
   "metadata": {},
   "outputs": [],
   "source": [
    "df = pd.read_csv(\"data/CTU-13-Dataset/10/capture20110818.binetflow\")"
   ]
  },
  {
   "cell_type": "code",
   "execution_count": 3,
   "metadata": {},
   "outputs": [
    {
     "data": {
      "text/plain": [
       "Index(['StartTime', 'Dur', 'Proto', 'SrcAddr', 'Sport', 'Dir', 'DstAddr',\n",
       "       'Dport', 'State', 'sTos', 'dTos', 'TotPkts', 'TotBytes', 'SrcBytes',\n",
       "       'Label'],\n",
       "      dtype='object')"
      ]
     },
     "execution_count": 3,
     "metadata": {},
     "output_type": "execute_result"
    }
   ],
   "source": [
    "df.columns"
   ]
  },
  {
   "cell_type": "code",
   "execution_count": 4,
   "metadata": {},
   "outputs": [
    {
     "name": "stdout",
     "output_type": "stream",
     "text": [
      "<class 'pandas.core.frame.DataFrame'>\n",
      "RangeIndex: 1309791 entries, 0 to 1309790\n",
      "Data columns (total 15 columns):\n",
      " #   Column     Non-Null Count    Dtype  \n",
      "---  ------     --------------    -----  \n",
      " 0   StartTime  1309791 non-null  object \n",
      " 1   Dur        1309791 non-null  float64\n",
      " 2   Proto      1309791 non-null  object \n",
      " 3   SrcAddr    1309791 non-null  object \n",
      " 4   Sport      1302804 non-null  object \n",
      " 5   Dir        1309791 non-null  object \n",
      " 6   DstAddr    1309791 non-null  object \n",
      " 7   Dport      1205576 non-null  object \n",
      " 8   State      1308563 non-null  object \n",
      " 9   sTos       1296939 non-null  float64\n",
      " 10  dTos       1123000 non-null  float64\n",
      " 11  TotPkts    1309791 non-null  int64  \n",
      " 12  TotBytes   1309791 non-null  int64  \n",
      " 13  SrcBytes   1309791 non-null  int64  \n",
      " 14  Label      1309791 non-null  object \n",
      "dtypes: float64(3), int64(3), object(9)\n",
      "memory usage: 149.9+ MB\n"
     ]
    }
   ],
   "source": [
    "df.info()"
   ]
  },
  {
   "cell_type": "code",
   "execution_count": 5,
   "metadata": {
    "scrolled": true
   },
   "outputs": [
    {
     "data": {
      "text/html": [
       "<div>\n",
       "<style scoped>\n",
       "    .dataframe tbody tr th:only-of-type {\n",
       "        vertical-align: middle;\n",
       "    }\n",
       "\n",
       "    .dataframe tbody tr th {\n",
       "        vertical-align: top;\n",
       "    }\n",
       "\n",
       "    .dataframe thead th {\n",
       "        text-align: right;\n",
       "    }\n",
       "</style>\n",
       "<table border=\"1\" class=\"dataframe\">\n",
       "  <thead>\n",
       "    <tr style=\"text-align: right;\">\n",
       "      <th></th>\n",
       "      <th>StartTime</th>\n",
       "      <th>Dur</th>\n",
       "      <th>Proto</th>\n",
       "      <th>SrcAddr</th>\n",
       "      <th>Sport</th>\n",
       "      <th>Dir</th>\n",
       "      <th>DstAddr</th>\n",
       "      <th>Dport</th>\n",
       "      <th>State</th>\n",
       "      <th>sTos</th>\n",
       "      <th>dTos</th>\n",
       "      <th>TotPkts</th>\n",
       "      <th>TotBytes</th>\n",
       "      <th>SrcBytes</th>\n",
       "      <th>Label</th>\n",
       "    </tr>\n",
       "  </thead>\n",
       "  <tbody>\n",
       "    <tr>\n",
       "      <th>0</th>\n",
       "      <td>2011/08/18 10:21:46.633335</td>\n",
       "      <td>1.060248</td>\n",
       "      <td>tcp</td>\n",
       "      <td>93.45.239.29</td>\n",
       "      <td>1611</td>\n",
       "      <td>-&gt;</td>\n",
       "      <td>147.32.84.118</td>\n",
       "      <td>6881</td>\n",
       "      <td>S_RA</td>\n",
       "      <td>0.0</td>\n",
       "      <td>0.0</td>\n",
       "      <td>4</td>\n",
       "      <td>252</td>\n",
       "      <td>132</td>\n",
       "      <td>flow=Background-TCP-Attempt</td>\n",
       "    </tr>\n",
       "    <tr>\n",
       "      <th>1</th>\n",
       "      <td>2011/08/18 10:19:49.027650</td>\n",
       "      <td>279.349152</td>\n",
       "      <td>tcp</td>\n",
       "      <td>62.240.166.118</td>\n",
       "      <td>1031</td>\n",
       "      <td>&lt;?&gt;</td>\n",
       "      <td>147.32.84.229</td>\n",
       "      <td>13363</td>\n",
       "      <td>SRPA_PA</td>\n",
       "      <td>0.0</td>\n",
       "      <td>0.0</td>\n",
       "      <td>15</td>\n",
       "      <td>1318</td>\n",
       "      <td>955</td>\n",
       "      <td>flow=Background-TCP-Attempt</td>\n",
       "    </tr>\n",
       "    <tr>\n",
       "      <th>2</th>\n",
       "      <td>2011/08/18 10:22:07.160628</td>\n",
       "      <td>166.390015</td>\n",
       "      <td>tcp</td>\n",
       "      <td>147.32.86.148</td>\n",
       "      <td>58067</td>\n",
       "      <td>-&gt;</td>\n",
       "      <td>66.235.132.232</td>\n",
       "      <td>80</td>\n",
       "      <td>SR_SA</td>\n",
       "      <td>0.0</td>\n",
       "      <td>0.0</td>\n",
       "      <td>3</td>\n",
       "      <td>212</td>\n",
       "      <td>134</td>\n",
       "      <td>flow=Background-TCP-Established</td>\n",
       "    </tr>\n",
       "    <tr>\n",
       "      <th>3</th>\n",
       "      <td>2011/08/18 10:26:02.052163</td>\n",
       "      <td>1.187083</td>\n",
       "      <td>tcp</td>\n",
       "      <td>147.32.3.51</td>\n",
       "      <td>3130</td>\n",
       "      <td>-&gt;</td>\n",
       "      <td>147.32.84.46</td>\n",
       "      <td>10010</td>\n",
       "      <td>S_RA</td>\n",
       "      <td>0.0</td>\n",
       "      <td>0.0</td>\n",
       "      <td>4</td>\n",
       "      <td>244</td>\n",
       "      <td>124</td>\n",
       "      <td>flow=Background-TCP-Attempt</td>\n",
       "    </tr>\n",
       "    <tr>\n",
       "      <th>4</th>\n",
       "      <td>2011/08/18 10:26:52.226748</td>\n",
       "      <td>0.980571</td>\n",
       "      <td>tcp</td>\n",
       "      <td>88.212.37.169</td>\n",
       "      <td>3134</td>\n",
       "      <td>-&gt;</td>\n",
       "      <td>147.32.84.118</td>\n",
       "      <td>6881</td>\n",
       "      <td>S_RA</td>\n",
       "      <td>0.0</td>\n",
       "      <td>0.0</td>\n",
       "      <td>4</td>\n",
       "      <td>244</td>\n",
       "      <td>124</td>\n",
       "      <td>flow=Background-TCP-Attempt</td>\n",
       "    </tr>\n",
       "  </tbody>\n",
       "</table>\n",
       "</div>"
      ],
      "text/plain": [
       "                    StartTime         Dur Proto         SrcAddr  Sport    Dir  \\\n",
       "0  2011/08/18 10:21:46.633335    1.060248   tcp    93.45.239.29   1611     ->   \n",
       "1  2011/08/18 10:19:49.027650  279.349152   tcp  62.240.166.118   1031    <?>   \n",
       "2  2011/08/18 10:22:07.160628  166.390015   tcp   147.32.86.148  58067     ->   \n",
       "3  2011/08/18 10:26:02.052163    1.187083   tcp     147.32.3.51   3130     ->   \n",
       "4  2011/08/18 10:26:52.226748    0.980571   tcp   88.212.37.169   3134     ->   \n",
       "\n",
       "          DstAddr  Dport    State  sTos  dTos  TotPkts  TotBytes  SrcBytes  \\\n",
       "0   147.32.84.118   6881     S_RA   0.0   0.0        4       252       132   \n",
       "1   147.32.84.229  13363  SRPA_PA   0.0   0.0       15      1318       955   \n",
       "2  66.235.132.232     80    SR_SA   0.0   0.0        3       212       134   \n",
       "3    147.32.84.46  10010     S_RA   0.0   0.0        4       244       124   \n",
       "4   147.32.84.118   6881     S_RA   0.0   0.0        4       244       124   \n",
       "\n",
       "                             Label  \n",
       "0      flow=Background-TCP-Attempt  \n",
       "1      flow=Background-TCP-Attempt  \n",
       "2  flow=Background-TCP-Established  \n",
       "3      flow=Background-TCP-Attempt  \n",
       "4      flow=Background-TCP-Attempt  "
      ]
     },
     "execution_count": 5,
     "metadata": {},
     "output_type": "execute_result"
    }
   ],
   "source": [
    "df.head()"
   ]
  },
  {
   "cell_type": "markdown",
   "metadata": {},
   "source": [
    "## Encode Labels and Drop Background Flows\n",
    "\n",
    "- normal = 0\n",
    "- botnet = 1\n",
    "- background = 2"
   ]
  },
  {
   "cell_type": "code",
   "execution_count": 6,
   "metadata": {
    "scrolled": false
   },
   "outputs": [],
   "source": [
    "df_encoded = encode_labels(df)"
   ]
  },
  {
   "cell_type": "markdown",
   "metadata": {},
   "source": [
    "The counts of the flows match what is given on the website"
   ]
  },
  {
   "cell_type": "code",
   "execution_count": 7,
   "metadata": {},
   "outputs": [
    {
     "data": {
      "text/plain": [
       "2    1187592\n",
       "1     106352\n",
       "0      15847\n",
       "Name: Label, dtype: int64"
      ]
     },
     "execution_count": 7,
     "metadata": {},
     "output_type": "execute_result"
    }
   ],
   "source": [
    "df_encoded[\"Label\"].value_counts()"
   ]
  },
  {
   "cell_type": "code",
   "execution_count": 8,
   "metadata": {},
   "outputs": [
    {
     "data": {
      "text/plain": [
       "StartTime         0\n",
       "Dur               0\n",
       "Proto             0\n",
       "SrcAddr           0\n",
       "Sport          6987\n",
       "Dir               0\n",
       "DstAddr           0\n",
       "Dport        104215\n",
       "State          1228\n",
       "sTos          12852\n",
       "dTos         186791\n",
       "TotPkts           0\n",
       "TotBytes          0\n",
       "SrcBytes          0\n",
       "Label             0\n",
       "dtype: int64"
      ]
     },
     "execution_count": 8,
     "metadata": {},
     "output_type": "execute_result"
    }
   ],
   "source": [
    "df.isna().sum()"
   ]
  },
  {
   "cell_type": "markdown",
   "metadata": {},
   "source": [
    "### Encode features"
   ]
  },
  {
   "cell_type": "code",
   "execution_count": 9,
   "metadata": {},
   "outputs": [],
   "source": [
    "df_encoded.loc[df_encoded[\"Sport\"].isna(), \"Sport\"] = \"UNK\"\n",
    "sport_enc = LabelEncoder()\n",
    "df_encoded.loc[:, \"Sport\"] = sport_enc.fit_transform(df_encoded[\"Sport\"])\n",
    "\n",
    "df_encoded.loc[df_encoded[\"Dport\"].isna(), \"Dport\"] = \"UNK\"\n",
    "dport_enc = LabelEncoder()\n",
    "df_encoded.loc[:, \"Dport\"] = dport_enc.fit_transform(df_encoded[\"Dport\"])\n",
    "\n",
    "df_encoded.loc[df_encoded[\"State\"].isna(), \"State\"] = \"UNK\"\n",
    "state_enc = LabelEncoder()\n",
    "df_encoded.loc[:, \"State\"] = state_enc.fit_transform(df_encoded[\"State\"])\n",
    "\n",
    "df_encoded.loc[df_encoded[\"sTos\"].isna(), \"sTos\"] = -999\n",
    "stos_enc = LabelEncoder()\n",
    "df_encoded.loc[:, \"sTos\"] = stos_enc.fit_transform(df_encoded[\"sTos\"])\n",
    "\n",
    "df_encoded.loc[df_encoded[\"dTos\"].isna(), \"dTos\"] = -999\n",
    "dtos_enc = LabelEncoder()\n",
    "df_encoded.loc[:, \"dTos\"] = dtos_enc.fit_transform(df_encoded[\"dTos\"])\n",
    "\n",
    "proto_enc = LabelEncoder()\n",
    "df_encoded.loc[:, \"Proto\"] = proto_enc.fit_transform(df_encoded[\"Proto\"])\n",
    "\n",
    "dir_enc = LabelEncoder()\n",
    "df_encoded.loc[:, \"Dir\"] = dir_enc.fit_transform(df_encoded[\"Dir\"])\n",
    "\n",
    "srcaddr_enc = LabelEncoder()\n",
    "df_encoded.loc[:, \"SrcAddr\"] = srcaddr_enc.fit_transform(df_encoded[\"SrcAddr\"])\n",
    "\n",
    "dstaddr_enc = LabelEncoder()\n",
    "df_encoded.loc[:, \"DstAddr\"] = dstaddr_enc.fit_transform(df_encoded[\"DstAddr\"])"
   ]
  },
  {
   "cell_type": "code",
   "execution_count": 10,
   "metadata": {},
   "outputs": [],
   "source": [
    "df_filtered = drop_background_flows(df_encoded)"
   ]
  },
  {
   "cell_type": "code",
   "execution_count": 11,
   "metadata": {},
   "outputs": [
    {
     "data": {
      "text/plain": [
       "1    106352\n",
       "0     15847\n",
       "Name: Label, dtype: int64"
      ]
     },
     "execution_count": 11,
     "metadata": {},
     "output_type": "execute_result"
    }
   ],
   "source": [
    "df_filtered[\"Label\"].value_counts()"
   ]
  },
  {
   "cell_type": "markdown",
   "metadata": {},
   "source": [
    "## Find correlations between features and label"
   ]
  },
  {
   "cell_type": "code",
   "execution_count": 12,
   "metadata": {},
   "outputs": [
    {
     "data": {
      "image/png": "[encoded data removed]",
      "text/plain": [
       "<Figure size 1152x576 with 2 Axes>"
      ]
     },
     "metadata": {
      "needs_background": "light"
     },
     "output_type": "display_data"
    },
    {
     "data": {
      "image/png": "[encoded data removed]",
      "text/plain": [
       "<Figure size 1152x576 with 4 Axes>"
      ]
     },
     "metadata": {
      "needs_background": "light"
     },
     "output_type": "display_data"
    }
   ],
   "source": [
    "#correlation matrices\n",
    "f, (ax1) = plt.subplots(1,figsize =(16, 8))\n",
    "sns.heatmap(df_filtered.corr(\"spearman\"))\n",
    "ax1.set_title('Complete Data')\n",
    "plt.show()\n",
    "\n",
    "\n",
    "f, (ax1, ax2) = plt.subplots(1,2,figsize =(16, 8))\n",
    "\n",
    "sns.heatmap(df_filtered[df_filtered[\"Label\"] == 1].corr(\"spearman\"), vmax = .8, square=True, ax = ax1, cmap = 'YlGnBu')\n",
    "ax1.set_title('Malicious')\n",
    "\n",
    "sns.heatmap(df_filtered[df_filtered[\"Label\"] == 0].corr(\"spearman\"), vmax = .8, square=True, ax = ax2, cmap = 'YlGnBu');\n",
    "ax2.set_title('Normal')\n",
    "\n",
    "plt.show()"
   ]
  },
  {
   "cell_type": "code",
   "execution_count": 13,
   "metadata": {},
   "outputs": [
    {
     "name": "stdout",
     "output_type": "stream",
     "text": [
      "Spearmans correlation coefficient: 0.501\n",
      "Samples are correlated (reject H0) p=0.000\n"
     ]
    }
   ],
   "source": [
    "coef, p = spearmanr(df_filtered[\"Label\"], df_filtered[\"TotBytes\"])\n",
    "print('Spearmans correlation coefficient: %.3f' % coef)\n",
    "# interpret the significance\n",
    "alpha = 0.05\n",
    "if p > alpha:\n",
    "    print('Samples are uncorrelated (fail to reject H0) p=%.3f' % p)\n",
    "else:\n",
    "    print('Samples are correlated (reject H0) p=%.3f' % p)"
   ]
  },
  {
   "cell_type": "code",
   "execution_count": 14,
   "metadata": {},
   "outputs": [
    {
     "name": "stdout",
     "output_type": "stream",
     "text": [
      "Spearmans correlation coefficient: -0.627\n",
      "Samples are correlated (reject H0) p=0.000\n"
     ]
    }
   ],
   "source": [
    "coef, p = spearmanr(df_filtered[\"Label\"], df_filtered[\"Dur\"])\n",
    "print('Spearmans correlation coefficient: %.3f' % coef)\n",
    "# interpret the significance\n",
    "alpha = 0.05\n",
    "if p > alpha:\n",
    "    print('Samples are uncorrelated (fail to reject H0) p=%.3f' % p)\n",
    "else:\n",
    "    print('Samples are correlated (reject H0) p=%.3f' % p)"
   ]
  },
  {
   "cell_type": "markdown",
   "metadata": {},
   "source": [
    "## 3. Find the optimal number of bins for discretization\n",
    "\n",
    "- Use kmeans for discretization\n",
    "- Use the elbow method by plotting the within cluster sum of squares vs number of clusters\n",
    "- Use cluster labels as the discretized values\n",
    "- Sort the clusters according to the ordinal rank of the feature"
   ]
  },
  {
   "cell_type": "code",
   "execution_count": 15,
   "metadata": {},
   "outputs": [],
   "source": [
    "def visualize_discretization(feature, min_k=2, max_k=15):\n",
    "    distortions = {}\n",
    "    kmeans_models = {}\n",
    "    for k in tqdm(range(min_k, max_k)):\n",
    "        kmeans_model = KMeans(n_clusters=k, random_state=1337)\n",
    "        kmeans_model.fit(feature)\n",
    "        kmeans_models[k] = kmeans_model\n",
    "        distortions[k] = kmeans_model.inertia_\n",
    "\n",
    "    plt.figure(figsize=(16,8))\n",
    "    plt.plot(range(min_k, max_k), list(distortions.values()), 'bx-')\n",
    "    plt.xlabel('k')\n",
    "    plt.ylabel('Distortion')\n",
    "    plt.title('The Elbow Method showing the optimal k')\n",
    "    plt.show()\n",
    "    \n",
    "    return kmeans_models, distortions"
   ]
  },
  {
   "cell_type": "code",
   "execution_count": 16,
   "metadata": {},
   "outputs": [
    {
     "data": {
      "text/plain": [
       "1    122170\n",
       "0        29\n",
       "Name: sTos, dtype: int64"
      ]
     },
     "execution_count": 16,
     "metadata": {},
     "output_type": "execute_result"
    }
   ],
   "source": [
    "df_filtered[\"sTos\"].value_counts()"
   ]
  },
  {
   "cell_type": "markdown",
   "metadata": {},
   "source": [
    "## Numerically Encode Dir and Proto features"
   ]
  },
  {
   "cell_type": "markdown",
   "metadata": {},
   "source": [
    "### 1.1 Discretization of TotBytes"
   ]
  },
  {
   "cell_type": "code",
   "execution_count": 17,
   "metadata": {},
   "outputs": [
    {
     "name": "stderr",
     "output_type": "stream",
     "text": [
      "/Users/nikilsaldanaha/Documents/University/q4/Cyber Data Analytics/project/cyber-data-analytics/Part-3/preprocessing.py:14: SettingWithCopyWarning: \n",
      "A value is trying to be set on a copy of a slice from a DataFrame.\n",
      "Try using .loc[row_indexer,col_indexer] = value instead\n",
      "\n",
      "See the caveats in the documentation: https://pandas.pydata.org/pandas-docs/stable/user_guide/indexing.html#returning-a-view-versus-a-copy\n",
      "  df[col] = enc.transform(df[col])\n"
     ]
    }
   ],
   "source": [
    "df_filtered, dir_enc = encode(df_filtered, \"Dir\")\n",
    "df_filtered, protocol_enc = encode(df_filtered, \"Proto\")"
   ]
  },
  {
   "cell_type": "code",
   "execution_count": 18,
   "metadata": {},
   "outputs": [
    {
     "name": "stderr",
     "output_type": "stream",
     "text": [
      "100%|██████████| 13/13 [00:22<00:00,  1.71s/it]\n"
     ]
    },
    {
     "data": {
      "image/png": "[encoded data removed]",
      "text/plain": [
       "<Figure size 1152x576 with 1 Axes>"
      ]
     },
     "metadata": {
      "needs_background": "light"
     },
     "output_type": "display_data"
    }
   ],
   "source": [
    "tot_bytes = df_filtered[\"TotBytes\"].to_numpy().reshape(-1, 1)\n",
    "kmeans_models, distortions = visualize_discretization(tot_bytes)"
   ]
  },
  {
   "cell_type": "markdown",
   "metadata": {},
   "source": [
    "Choosing k = 4"
   ]
  },
  {
   "cell_type": "code",
   "execution_count": 40,
   "metadata": {},
   "outputs": [
    {
     "name": "stderr",
     "output_type": "stream",
     "text": [
      "/Users/nikilsaldanaha/Documents/University/q4/Cyber Data Analytics/project/cyber-data-analytics/env/lib/python3.8/site-packages/pandas/core/indexing.py:966: SettingWithCopyWarning: \n",
      "A value is trying to be set on a copy of a slice from a DataFrame.\n",
      "Try using .loc[row_indexer,col_indexer] = value instead\n",
      "\n",
      "See the caveats in the documentation: https://pandas.pydata.org/pandas-docs/stable/user_guide/indexing.html#returning-a-view-versus-a-copy\n",
      "  self.obj[item] = s\n"
     ]
    }
   ],
   "source": [
    "# discretize\n",
    "df_filtered.loc[:, \"TotBytes_\"] = kmeans_models[4].predict(tot_bytes)"
   ]
  },
  {
   "cell_type": "code",
   "execution_count": 20,
   "metadata": {},
   "outputs": [
    {
     "data": {
      "text/plain": [
       "0    121948\n",
       "4       125\n",
       "2        93\n",
       "3        23\n",
       "1        10\n",
       "Name: TotBytes_, dtype: int64"
      ]
     },
     "execution_count": 20,
     "metadata": {},
     "output_type": "execute_result"
    }
   ],
   "source": [
    "df_filtered.TotBytes_.value_counts()"
   ]
  },
  {
   "cell_type": "markdown",
   "metadata": {},
   "source": [
    "### 1.2 Discretization of TotBytes"
   ]
  },
  {
   "cell_type": "code",
   "execution_count": 21,
   "metadata": {},
   "outputs": [
    {
     "name": "stderr",
     "output_type": "stream",
     "text": [
      "100%|██████████| 13/13 [00:21<00:00,  1.68s/it]\n"
     ]
    },
    {
     "data": {
      "image/png": "[encoded data removed]",
      "text/plain": [
       "<Figure size 1152x576 with 1 Axes>"
      ]
     },
     "metadata": {
      "needs_background": "light"
     },
     "output_type": "display_data"
    }
   ],
   "source": [
    "dur = df_filtered[\"Dur\"].to_numpy().reshape(-1, 1)\n",
    "kmeans_models, distortions = visualize_discretization(dur)"
   ]
  },
  {
   "cell_type": "markdown",
   "metadata": {},
   "source": [
    "Choosing k = 5"
   ]
  },
  {
   "cell_type": "code",
   "execution_count": 22,
   "metadata": {},
   "outputs": [
    {
     "name": "stderr",
     "output_type": "stream",
     "text": [
      "/Users/nikilsaldanaha/Documents/University/q4/Cyber Data Analytics/project/cyber-data-analytics/env/lib/python3.8/site-packages/pandas/core/indexing.py:845: SettingWithCopyWarning: \n",
      "A value is trying to be set on a copy of a slice from a DataFrame.\n",
      "Try using .loc[row_indexer,col_indexer] = value instead\n",
      "\n",
      "See the caveats in the documentation: https://pandas.pydata.org/pandas-docs/stable/user_guide/indexing.html#returning-a-view-versus-a-copy\n",
      "  self.obj[key] = _infer_fill_value(value)\n",
      "/Users/nikilsaldanaha/Documents/University/q4/Cyber Data Analytics/project/cyber-data-analytics/env/lib/python3.8/site-packages/pandas/core/indexing.py:966: SettingWithCopyWarning: \n",
      "A value is trying to be set on a copy of a slice from a DataFrame.\n",
      "Try using .loc[row_indexer,col_indexer] = value instead\n",
      "\n",
      "See the caveats in the documentation: https://pandas.pydata.org/pandas-docs/stable/user_guide/indexing.html#returning-a-view-versus-a-copy\n",
      "  self.obj[item] = s\n"
     ]
    }
   ],
   "source": [
    "# discretize\n",
    "df_filtered.loc[:, \"Dur_\"] = kmeans_models[5].predict(dur)"
   ]
  },
  {
   "cell_type": "code",
   "execution_count": 23,
   "metadata": {},
   "outputs": [
    {
     "data": {
      "text/plain": [
       "0    111308\n",
       "1      7282\n",
       "3      2170\n",
       "4      1307\n",
       "2       132\n",
       "Name: Dur_, dtype: int64"
      ]
     },
     "execution_count": 23,
     "metadata": {},
     "output_type": "execute_result"
    }
   ],
   "source": [
    "df_filtered.Dur_.value_counts()"
   ]
  },
  {
   "cell_type": "markdown",
   "metadata": {},
   "source": [
    "### 1.3 Sort the clusters according to the ordinal rank of the features"
   ]
  },
  {
   "cell_type": "code",
   "execution_count": 41,
   "metadata": {},
   "outputs": [],
   "source": [
    "## order the total bytes discretized values according to its ordinal rank\n",
    "min_list = []\n",
    "for i in range(5):\n",
    "    min_list.append((i, df_filtered[df_filtered[\"TotBytes_\"] == i][\"TotBytes\"].describe()[\"min\"]))\n",
    "min_list = sorted(min_list, key=lambda x: x[1])\n",
    "\n",
    "cluster_indices = []\n",
    "for i in range(5):\n",
    "    cluster_indices.append(df_filtered[\"TotBytes_\"] == i)\n",
    "\n",
    "cluster_ordinal_map = {i: c[0] for i, c in enumerate(min_list)}\n",
    "\n",
    "for i, c in enumerate(min_list):\n",
    "    df_filtered.loc[cluster_indices[i], \"TotBytes_\"] = c[0]"
   ]
  },
  {
   "cell_type": "code",
   "execution_count": 42,
   "metadata": {},
   "outputs": [],
   "source": [
    "## order the duration discretized values according to its ordinal rank\n",
    "min_list = []\n",
    "for i in range(5):\n",
    "    min_list.append((i, df_filtered[df_filtered[\"Dur_\"] == i][\"Dur\"].describe()[\"min\"]))\n",
    "min_list = sorted(min_list, key=lambda x: x[1], reverse=True)\n",
    "\n",
    "cluster_indices = []\n",
    "for i in range(5):\n",
    "    cluster_indices.append(df_filtered[\"Dur_\"] == i)\n",
    "\n",
    "cluster_ordinal_map = {i: c[0] for i, c in enumerate(min_list)}\n",
    "\n",
    "for i, c in enumerate(min_list):\n",
    "    df_filtered.loc[cluster_indices[i], \"Dur_\"] = c[0]"
   ]
  },
  {
   "cell_type": "markdown",
   "metadata": {},
   "source": [
    "## 2. Encoding using Attributes Mapping algorithm\n",
    "\n",
    "_Algorithm 1 from [G. Pellegrino et.al. Learning Behavioral Fingerprints From Netflows Using Timed Automata](http://dl.ifip.org/db/conf/im/im2017/036.pdf)_\n",
    "\n",
    "We combine `TotBytes` and `Dur` using this algorithm"
   ]
  },
  {
   "cell_type": "code",
   "execution_count": 43,
   "metadata": {},
   "outputs": [],
   "source": [
    "num_bins = {\"TotBytes_\": 5, \"Dur_\": 5}"
   ]
  },
  {
   "cell_type": "code",
   "execution_count": 44,
   "metadata": {},
   "outputs": [],
   "source": [
    "def attribute_mapping_encode(row):\n",
    "    code = 0\n",
    "    features = row.index\n",
    "    space_size = reduce((lambda x, y: num_bins[x] * num_bins[y]), features)\n",
    "    for feature in features:\n",
    "        code = code + row[feature]*space_size/num_bins[feature]\n",
    "        space_size = space_size/num_bins[feature]\n",
    "    return code"
   ]
  },
  {
   "cell_type": "code",
   "execution_count": 45,
   "metadata": {},
   "outputs": [],
   "source": [
    "df_filtered.loc[:, \"TotBytes_Dur\"] = df_filtered[[\"TotBytes_\", \"Dur_\"]].apply(attribute_mapping_encode, axis=1)"
   ]
  },
  {
   "cell_type": "code",
   "execution_count": 46,
   "metadata": {
    "scrolled": false
   },
   "outputs": [
    {
     "data": {
      "text/plain": [
       "Text(0.5, 1.0, 'Distribution of discretized feature for Normal Flows')"
      ]
     },
     "execution_count": 46,
     "metadata": {},
     "output_type": "execute_result"
    },
    {
     "data": {
      "image/png": "[encoded data removed]",
      "text/plain": [
       "<Figure size 1584x576 with 2 Axes>"
      ]
     },
     "metadata": {
      "needs_background": "light"
     },
     "output_type": "display_data"
    }
   ],
   "source": [
    "f, (ax1, ax2) = plt.subplots(1,2,figsize =(22, 8))\n",
    "\n",
    "sns.distplot(df_filtered[(df_filtered[\"Label\"] == 1)][\"TotBytes_Dur\"], kde=False, ax=ax1)\n",
    "ax1.set_title(\"Distribution of discretized feature for Botnet Flows\")\n",
    "sns.distplot(df_filtered[(df_filtered[\"Label\"] == 0)][\"TotBytes_Dur\"], kde=False, ax=ax2)\n",
    "ax2.set_title(\"Distribution of discretized feature for Normal Flows\")"
   ]
  },
  {
   "cell_type": "code",
   "execution_count": 47,
   "metadata": {},
   "outputs": [
    {
     "name": "stdout",
     "output_type": "stream",
     "text": [
      "Spearmans correlation coefficient: 0.446\n",
      "Samples are correlated (reject H0) p=0.000\n"
     ]
    }
   ],
   "source": [
    "coef, p = spearmanr(df_filtered[\"Label\"], df_filtered[\"TotBytes_Dur\"])\n",
    "print('Spearmans correlation coefficient: %.3f' % coef)\n",
    "# interpret the significance\n",
    "alpha = 0.05\n",
    "if p > alpha:\n",
    "    print('Samples are uncorrelated (fail to reject H0) p=%.3f' % p)\n",
    "else:\n",
    "    print('Samples are correlated (reject H0) p=%.3f' % p)"
   ]
  },
  {
   "cell_type": "code",
   "execution_count": 48,
   "metadata": {},
   "outputs": [],
   "source": [
    "df_filtered.to_csv(\"data/TotBytes_Dur_discretized.csv\", index=False)"
   ]
  }
 ],
 "metadata": {
  "kernelspec": {
   "display_name": "Python 3.8.2 64-bit ('env': venv)",
   "language": "python",
   "name": "python38264bitenvvenv7b9860dd079f4740a146ad2038fa480b"
  },
  "language_info": {
   "codemirror_mode": {
    "name": "ipython",
    "version": 3
   },
   "file_extension": ".py",
   "mimetype": "text/x-python",
   "name": "python",
   "nbconvert_exporter": "python",
   "pygments_lexer": "ipython3",
   "version": "3.8.2"
  }
 },
 "nbformat": 4,
 "nbformat_minor": 4
}
