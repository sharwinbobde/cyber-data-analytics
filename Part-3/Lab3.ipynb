{
 "cells": [
  {
   "cell_type": "markdown",
   "metadata": {},
   "source": [
    "# CS4035 - Cyber Data Analytics\n",
    "## Lab 3 "
   ]
  },
  {
   "cell_type": "markdown",
   "metadata": {},
   "source": [
    "### Submit on brightspace (zip file with the name Group_xx.zip)\n",
    "(i) This jupyter file completed with code, plots, figures and report for each question. Additional plots and figures can be created for explanation before the end of each main question. Lab 3 contains 7 main questions, including the bonus. Write the code or explanation below each sub question. For the explantions, include what you would normally include in the report for this lab assignment, for example data pre-processing, hypothesis tested, approach, results, etc.\n",
    "(ii) A PDF or a Word report for the assignment. Create a report from the plots, figures, tables and the write-up that you provide in this jupyter file. The report will be used as a proof for page limit. \n",
    "(iii) The libraries needed to run this file. \n",
    "\n",
    "Your peers should be able to use the readme section for instructions and be able to run this file. "
   ]
  },
  {
   "cell_type": "markdown",
   "metadata": {},
   "source": [
    "## Group Number :"
   ]
  },
  {
   "cell_type": "markdown",
   "metadata": {},
   "source": [
    "## Student 1 \n",
    "### Name : Nikhil Saldanha\n",
    "### ID : 4998707"
   ]
  },
  {
   "cell_type": "markdown",
   "metadata": {},
   "source": [
    "## Student 2\n",
    "### Name : Sharwin Bobde\n",
    "### ID : 5011639"
   ]
  },
  {
   "cell_type": "markdown",
   "metadata": {},
   "source": [
    "## Readme - Provide instructions - libraries used, location of the data file, etc. Keep it short. Remember your peers will not debug your code and should be able to reproduce the exact output you provide."
   ]
  },
  {
   "cell_type": "code",
   "execution_count": null,
   "metadata": {},
   "outputs": [],
   "source": [
    "from sklearn.cluster import KMeans\n",
    "import seaborn as sns\n",
    "from scipy.stats import spearmanr\n",
    "from functools import reduce\n",
    "import pandas as pd\n",
    "import matplotlib.pyplot as plt\n",
    "from tqdm import tqdm\n",
    "from preprocessing import *"
   ]
  },
  {
   "cell_type": "markdown",
   "metadata": {},
   "source": [
    "## 1. Familiarization and discretization task – 1 A4"
   ]
  },
  {
   "cell_type": "markdown",
   "metadata": {},
   "source": [
    "### Encode Labels and Drop Background Flows\n",
    "\n",
    "- normal = 0\n",
    "- botnet = 1\n",
    "- background = 2"
   ]
  },
  {
   "cell_type": "code",
   "execution_count": 6,
   "metadata": {
    "scrolled": false
   },
   "outputs": [],
   "source": [
    "df_encoded = encode_labels(df)\n",
    "df_filtered = drop_background_flows(df_encoded)"
   ]
  },
  {
   "cell_type": "code",
   "execution_count": 7,
   "metadata": {},
   "outputs": [
    {
     "data": {
      "text/plain": [
       "2    1187592\n",
       "1     106352\n",
       "0      15847\n",
       "Name: Label, dtype: int64"
      ]
     },
     "execution_count": 7,
     "metadata": {},
     "output_type": "execute_result"
    }
   ],
   "source": [
    "df_encoded[\"Label\"].value_counts()"
   ]
  },
  {
   "cell_type": "markdown",
   "metadata": {},
   "source": [
    "The counts of the flows match what is given on the website"
   ]
  },
  {
   "cell_type": "markdown",
   "metadata": {},
   "source": [
    "### Check NaNs"
   ]
  },
  {
   "cell_type": "code",
   "execution_count": 9,
   "metadata": {},
   "outputs": [
    {
     "data": {
      "text/plain": [
       "StartTime         0\n",
       "Dur               0\n",
       "Proto             0\n",
       "SrcAddr           0\n",
       "Sport          6987\n",
       "Dir               0\n",
       "DstAddr           0\n",
       "Dport        104215\n",
       "State          1228\n",
       "sTos          12852\n",
       "dTos         186791\n",
       "TotPkts           0\n",
       "TotBytes          0\n",
       "SrcBytes          0\n",
       "Label             0\n",
       "dtype: int64"
      ]
     },
     "execution_count": 9,
     "metadata": {},
     "output_type": "execute_result"
    }
   ],
   "source": [
    "df.isna().sum()"
   ]
  },
  {
   "cell_type": "markdown",
   "metadata": {},
   "source": [
    "### Encode features"
   ]
  },
  {
   "cell_type": "code",
   "execution_count": 13,
   "metadata": {},
   "outputs": [],
   "source": [
    "df_encoded.loc[df_encoded[\"Sport\"].isna(), \"Sport\"] = \"UNK\"\n",
    "sport_enc = LabelEncoder()\n",
    "df_encoded.loc[:, \"Sport\"] = sport_enc.fit_transform(df_encoded[\"Sport\"])\n",
    "\n",
    "df_encoded.loc[df_encoded[\"Dport\"].isna(), \"Dport\"] = \"UNK\"\n",
    "dport_enc = LabelEncoder()\n",
    "df_encoded.loc[:, \"Dport\"] = dport_enc.fit_transform(df_encoded[\"Dport\"])\n",
    "\n",
    "df_encoded.loc[df_encoded[\"State\"].isna(), \"State\"] = \"UNK\"\n",
    "state_enc = LabelEncoder()\n",
    "df_encoded.loc[:, \"State\"] = state_enc.fit_transform(df_encoded[\"State\"])\n",
    "\n",
    "df_encoded.loc[df_encoded[\"sTos\"].isna(), \"sTos\"] = -999\n",
    "stos_enc = LabelEncoder()\n",
    "df_encoded.loc[:, \"sTos\"] = stos_enc.fit_transform(df_encoded[\"sTos\"])\n",
    "\n",
    "df_encoded.loc[df_encoded[\"dTos\"].isna(), \"dTos\"] = -999\n",
    "dtos_enc = LabelEncoder()\n",
    "df_encoded.loc[:, \"dTos\"] = dtos_enc.fit_transform(df_encoded[\"dTos\"])\n",
    "\n",
    "proto_enc = LabelEncoder()\n",
    "df_encoded.loc[:, \"Proto\"] = proto_enc.fit_transform(df_encoded[\"Proto\"])\n",
    "\n",
    "dir_enc = LabelEncoder()\n",
    "df_encoded.loc[:, \"Dir\"] = dir_enc.fit_transform(df_encoded[\"Dir\"])\n",
    "\n",
    "srcaddr_enc = LabelEncoder()\n",
    "df_encoded.loc[:, \"SrcAddr\"] = srcaddr_enc.fit_transform(df_encoded[\"SrcAddr\"])\n",
    "\n",
    "dstaddr_enc = LabelEncoder()\n",
    "df_encoded.loc[:, \"DstAddr\"] = dstaddr_enc.fit_transform(df_encoded[\"DstAddr\"])"
   ]
  },
  {
   "cell_type": "code",
   "execution_count": 34,
   "metadata": {},
   "outputs": [],
   "source": [
    "df_filtered = drop_background_flows(df_encoded)"
   ]
  },
  {
   "cell_type": "code",
   "execution_count": 35,
   "metadata": {},
   "outputs": [
    {
     "data": {
      "text/plain": [
       "1    106352\n",
       "0     15847\n",
       "Name: Label, dtype: int64"
      ]
     },
     "execution_count": 35,
     "metadata": {},
     "output_type": "execute_result"
    }
   ],
   "source": [
    "df_filtered[\"Label\"].value_counts()"
   ]
  },
  {
   "cell_type": "markdown",
   "metadata": {},
   "source": [
    "### Find correlations between features and label"
   ]
  },
  {
   "cell_type": "markdown",
   "metadata": {},
   "source": [
    "### 1a. Plot visualizations - Select and visualize two features for modeling the behavior of the infected host."
   ]
  },
  {
   "cell_type": "code",
   "execution_count": 42,
   "metadata": {},
   "outputs": [
    {
     "data": {
      "image/png": "[encoded data removed]",
      "text/plain": [
       "<Figure size 1152x576 with 2 Axes>"
      ]
     },
     "metadata": {
      "needs_background": "light"
     },
     "output_type": "display_data"
    },
    {
     "data": {
      "image/png": "[encoded data removed]",
      "text/plain": [
       "<Figure size 1152x576 with 4 Axes>"
      ]
     },
     "metadata": {
      "needs_background": "light"
     },
     "output_type": "display_data"
    }
   ],
   "source": [
    "#correlation matrices\n",
    "f, (ax1) = plt.subplots(1,figsize =(16, 8))\n",
    "sns.heatmap(df_filtered.corr(\"spearman\"))\n",
    "ax1.set_title('Complete Data')\n",
    "plt.show()\n",
    "\n",
    "\n",
    "f, (ax1, ax2) = plt.subplots(1,2,figsize =(16, 8))\n",
    "\n",
    "sns.heatmap(df_filtered[df_filtered[\"Label\"] == 1].corr(\"spearman\"), vmax = .8, square=True, ax = ax1, cmap = 'YlGnBu')\n",
    "ax1.set_title('Malicious')\n",
    "\n",
    "sns.heatmap(df_filtered[df_filtered[\"Label\"] == 0].corr(\"spearman\"), vmax = .8, square=True, ax = ax2, cmap = 'YlGnBu');\n",
    "ax2.set_title('Normal')\n",
    "\n",
    "plt.show()"
   ]
  },
  {
   "cell_type": "markdown",
   "metadata": {},
   "source": [
    "### Find correlations between TotBytes, Dur and label"
   ]
  },
  {
   "cell_type": "code",
   "execution_count": 10,
   "metadata": {},
   "outputs": [
    {
     "name": "stdout",
     "output_type": "stream",
     "text": [
      "Spearmans correlation coefficient: 0.501\n",
      "Samples are correlated (reject H0) p=0.000\n"
     ]
    }
   ],
   "source": [
    "coef, p = spearmanr(df_filtered[\"Label\"], df_filtered[\"TotBytes\"])\n",
    "print('Spearmans correlation coefficient: %.3f' % coef)\n",
    "# interpret the significance\n",
    "alpha = 0.05\n",
    "if p > alpha:\n",
    "    print('Samples are uncorrelated (fail to reject H0) p=%.3f' % p)\n",
    "else:\n",
    "    print('Samples are correlated (reject H0) p=%.3f' % p)"
   ]
  },
  {
   "cell_type": "code",
   "execution_count": 11,
   "metadata": {},
   "outputs": [
    {
     "name": "stdout",
     "output_type": "stream",
     "text": [
      "Spearmans correlation coefficient: -0.627\n",
      "Samples are correlated (reject H0) p=0.000\n"
     ]
    }
   ],
   "source": [
    "coef, p = spearmanr(df_filtered[\"Label\"], df_filtered[\"Dur\"])\n",
    "print('Spearmans correlation coefficient: %.3f' % coef)\n",
    "# interpret the significance\n",
    "alpha = 0.05\n",
    "if p > alpha:\n",
    "    print('Samples are uncorrelated (fail to reject H0) p=%.3f' % p)\n",
    "else:\n",
    "    print('Samples are correlated (reject H0) p=%.3f' % p)"
   ]
  },
  {
   "cell_type": "markdown",
   "metadata": {},
   "source": [
    "### 1b. Discretize selected features\n",
    "\n",
    "Find the optimal number of bins for discretization\n",
    "\n",
    "- Use kmeans for discretization\n",
    "- Use the elbow method by plotting the within cluster sum of squares vs number of clusters\n",
    "- Use cluster labels as the discretized values"
   ]
  },
  {
   "cell_type": "code",
   "execution_count": 12,
   "metadata": {},
   "outputs": [],
   "source": [
    "def visualize_discretization(feature, min_k=2, max_k=15):\n",
    "    distortions = {}\n",
    "    kmeans_models = {}\n",
    "    for k in tqdm(range(min_k, max_k)):\n",
    "        kmeans_model = KMeans(n_clusters=k)\n",
    "        kmeans_model.fit(feature)\n",
    "        kmeans_models[k] = kmeans_model\n",
    "        distortions[k] = kmeans_model.inertia_\n",
    "\n",
    "    plt.figure(figsize=(16,8))\n",
    "    plt.plot(range(min_k, max_k), list(distortions.values()), 'bx-')\n",
    "    plt.xlabel('k')\n",
    "    plt.ylabel('Distortion')\n",
    "    plt.title('The Elbow Method showing the optimal k')\n",
    "    plt.show()\n",
    "    \n",
    "    return kmeans_models, distortions"
   ]
  },
  {
   "cell_type": "markdown",
   "metadata": {},
   "source": [
    "### Discretization of TotBytes"
   ]
  },
  {
   "cell_type": "code",
   "execution_count": 13,
   "metadata": {},
   "outputs": [
    {
     "name": "stderr",
     "output_type": "stream",
     "text": [
      "100%|██████████| 13/13 [00:18<00:00,  1.40s/it]\n"
     ]
    },
    {
     "data": {
      "image/png": "[encoded data removed]",
      "text/plain": [
       "<Figure size 1152x576 with 1 Axes>"
      ]
     },
     "metadata": {
      "needs_background": "light"
     },
     "output_type": "display_data"
    }
   ],
   "source": [
    "tot_bytes = df_filtered[\"TotBytes\"].to_numpy().reshape(-1, 1)\n",
    "kmeans_models, distortions = visualize_discretization(tot_bytes)"
   ]
  },
  {
   "cell_type": "markdown",
   "metadata": {},
   "source": [
    "Choosing k = 5"
   ]
  },
  {
   "cell_type": "code",
   "execution_count": 26,
   "metadata": {},
   "outputs": [
    {
     "name": "stderr",
     "output_type": "stream",
     "text": [
      "/Users/nikilsaldanaha/Documents/University/q4/Cyber Data Analytics/project/cyber-data-analytics/env/lib/python3.8/site-packages/pandas/core/indexing.py:966: SettingWithCopyWarning: \n",
      "A value is trying to be set on a copy of a slice from a DataFrame.\n",
      "Try using .loc[row_indexer,col_indexer] = value instead\n",
      "\n",
      "See the caveats in the documentation: https://pandas.pydata.org/pandas-docs/stable/user_guide/indexing.html#returning-a-view-versus-a-copy\n",
      "  self.obj[item] = s\n"
     ]
    }
   ],
   "source": [
    "# discretize\n",
    "df_filtered.loc[:, \"TotBytes_\"] = kmeans_models[4].predict(tot_bytes)"
   ]
  },
  {
   "cell_type": "code",
   "execution_count": 27,
   "metadata": {},
   "outputs": [
    {
     "data": {
      "text/plain": [
       "3    97507\n",
       "0    11585\n",
       "2     7348\n",
       "1     5759\n",
       "Name: TotBytes_, dtype: int64"
      ]
     },
     "execution_count": 27,
     "metadata": {},
     "output_type": "execute_result"
    }
   ],
   "source": [
    "df_filtered.TotBytes_.value_counts()"
   ]
  },
  {
   "cell_type": "markdown",
   "metadata": {},
   "source": [
    "### Discretization of TotBytes"
   ]
  },
  {
   "cell_type": "code",
   "execution_count": 28,
   "metadata": {},
   "outputs": [
    {
     "name": "stderr",
     "output_type": "stream",
     "text": [
      "100%|██████████| 13/13 [00:20<00:00,  1.61s/it]\n"
     ]
    },
    {
     "data": {
      "image/png": "[encoded data removed]",
      "text/plain": [
       "<Figure size 1152x576 with 1 Axes>"
      ]
     },
     "metadata": {
      "needs_background": "light"
     },
     "output_type": "display_data"
    }
   ],
   "source": [
    "dur = df_filtered[\"Dur\"].to_numpy().reshape(-1, 1)\n",
    "kmeans_models, distortions = visualize_discretization(dur)"
   ]
  },
  {
   "cell_type": "markdown",
   "metadata": {},
   "source": [
    "Choosing k = 5"
   ]
  },
  {
   "cell_type": "code",
   "execution_count": 17,
   "metadata": {},
   "outputs": [
    {
     "name": "stderr",
     "output_type": "stream",
     "text": [
      "/Users/nikilsaldanaha/Documents/University/q4/Cyber Data Analytics/project/cyber-data-analytics/env/lib/python3.8/site-packages/pandas/core/indexing.py:845: SettingWithCopyWarning: \n",
      "A value is trying to be set on a copy of a slice from a DataFrame.\n",
      "Try using .loc[row_indexer,col_indexer] = value instead\n",
      "\n",
      "See the caveats in the documentation: https://pandas.pydata.org/pandas-docs/stable/user_guide/indexing.html#returning-a-view-versus-a-copy\n",
      "  self.obj[key] = _infer_fill_value(value)\n",
      "/Users/nikilsaldanaha/Documents/University/q4/Cyber Data Analytics/project/cyber-data-analytics/env/lib/python3.8/site-packages/pandas/core/indexing.py:966: SettingWithCopyWarning: \n",
      "A value is trying to be set on a copy of a slice from a DataFrame.\n",
      "Try using .loc[row_indexer,col_indexer] = value instead\n",
      "\n",
      "See the caveats in the documentation: https://pandas.pydata.org/pandas-docs/stable/user_guide/indexing.html#returning-a-view-versus-a-copy\n",
      "  self.obj[item] = s\n"
     ]
    }
   ],
   "source": [
    "# discretize\n",
    "df_filtered.loc[:, \"Dur_\"] = kmeans_models[5].predict(dur)"
   ]
  },
  {
   "cell_type": "code",
   "execution_count": 18,
   "metadata": {},
   "outputs": [
    {
     "data": {
      "text/plain": [
       "0    111308\n",
       "1      7284\n",
       "4      2168\n",
       "3      1307\n",
       "2       132\n",
       "Name: Dur_, dtype: int64"
      ]
     },
     "execution_count": 18,
     "metadata": {},
     "output_type": "execute_result"
    }
   ],
   "source": [
    "df_filtered.Dur_.value_counts()"
   ]
  },
  {
   "cell_type": "markdown",
   "metadata": {},
   "source": [
    "### Encoding using Attributes Mapping algorithm\n",
    "\n",
    "_Algorithm 1 from [G. Pellegrino et.al. Learning Behavioral Fingerprints From Netflows Using Timed Automata](http://dl.ifip.org/db/conf/im/im2017/036.pdf)_\n",
    "\n",
    "We combine `TotBytes` and `Dur` using this algorithm"
   ]
  },
  {
   "cell_type": "code",
   "execution_count": 29,
   "metadata": {},
   "outputs": [],
   "source": [
    "num_bins = {\"TotBytes_\": 4, \"Dur_\": 5}"
   ]
  },
  {
   "cell_type": "code",
   "execution_count": 30,
   "metadata": {},
   "outputs": [],
   "source": [
    "def attribute_mapping_encode(row):\n",
    "    code = 0\n",
    "    features = row.index\n",
    "    space_size = reduce((lambda x, y: num_bins[x] * num_bins[y]), features)\n",
    "    for feature in features:\n",
    "        code = code + row[feature]*space_size/num_bins[feature]\n",
    "        space_size = space_size/num_bins[feature]\n",
    "    return code"
   ]
  },
  {
   "cell_type": "code",
   "execution_count": 31,
   "metadata": {},
   "outputs": [
    {
     "name": "stderr",
     "output_type": "stream",
     "text": [
      "<ipython-input-31-72fae5463242>:1: SettingWithCopyWarning: \n",
      "A value is trying to be set on a copy of a slice from a DataFrame.\n",
      "Try using .loc[row_indexer,col_indexer] = value instead\n",
      "\n",
      "See the caveats in the documentation: https://pandas.pydata.org/pandas-docs/stable/user_guide/indexing.html#returning-a-view-versus-a-copy\n",
      "  df_filtered[\"TotBytes_Dur\"] = df_filtered[[\"TotBytes_\", \"Dur_\"]].apply(attribute_mapping_encode, axis=1)\n"
     ]
    }
   ],
   "source": [
    "df_filtered[\"TotBytes_Dur\"] = df_filtered[[\"TotBytes_\", \"Dur_\"]].apply(attribute_mapping_encode, axis=1)"
   ]
  },
  {
   "cell_type": "code",
   "execution_count": 32,
   "metadata": {},
   "outputs": [
    {
     "data": {
      "text/plain": [
       "Text(0.5, 1.0, 'Distribution of discretized feature for Normal Flows')"
      ]
     },
     "execution_count": 32,
     "metadata": {},
     "output_type": "execute_result"
    },
    {
     "data": {
      "image/png": "[encoded data removed]",
      "text/plain": [
       "<Figure size 1584x576 with 2 Axes>"
      ]
     },
     "metadata": {
      "needs_background": "light"
     },
     "output_type": "display_data"
    }
   ],
   "source": [
    "f, (ax1, ax2) = plt.subplots(1,2,figsize =(22, 8))\n",
    "\n",
    "sns.distplot(df_filtered[(df_filtered[\"Label\"] == 1)&(df_filtered[\"TotBytes_Dur\"] > 0)][\"TotBytes_Dur\"], kde=False, ax=ax1)\n",
    "ax1.set_title(\"Distribution of discretized feature for Botnet Flows\")\n",
    "sns.distplot(df_filtered[(df_filtered[\"Label\"] == 0)&(df_filtered[\"TotBytes_Dur\"] > 0)][\"TotBytes_Dur\"], kde=False, ax=ax2)\n",
    "ax2.set_title(\"Distribution of discretized feature for Normal Flows\")"
   ]
  },
  {
   "cell_type": "code",
   "execution_count": 33,
   "metadata": {},
   "outputs": [
    {
     "name": "stdout",
     "output_type": "stream",
     "text": [
      "Spearmans correlation coefficient: 0.749\n",
      "Samples are correlated (reject H0) p=0.000\n"
     ]
    }
   ],
   "source": [
    "coef, p = spearmanr(df_filtered[\"Label\"], df_filtered[\"TotBytes_Dur\"])\n",
    "print('Spearmans correlation coefficient: %.3f' % coef)\n",
    "# interpret the significance\n",
    "alpha = 0.05\n",
    "if p > alpha:\n",
    "    print('Samples are uncorrelated (fail to reject H0) p=%.3f' % p)\n",
    "else:\n",
    "    print('Samples are correlated (reject H0) p=%.3f' % p)"
   ]
  },
  {
   "cell_type": "markdown",
   "metadata": {},
   "source": [
    "### 1b. Answers and explanation\n",
    "\n",
    "1. Explanation of visualization of two features that are most relevant for modeling the behavior of the infected host\n",
    "2. Do you observe any behavior in the two features that could be useful for detecting the infection?"
   ]
  },
  {
   "cell_type": "markdown",
   "metadata": {},
   "source": [
    "## 2. Frequent task – 1/2 A4 (Nikhil Saldanha)"
   ]
  },
  {
   "cell_type": "markdown",
   "metadata": {},
   "source": [
    "### 2a. Use the SPACE SAVING algorithm"
   ]
  },
  {
   "cell_type": "code",
   "execution_count": null,
   "metadata": {},
   "outputs": [],
   "source": []
  },
  {
   "cell_type": "markdown",
   "metadata": {},
   "source": [
    "### 2b. Analysis and answers to the questions"
   ]
  },
  {
   "cell_type": "markdown",
   "metadata": {},
   "source": [
    "1. What are the 10 most frequent 3-grams and their frequencies when approximated?\n",
    "2. Explain any approximation errors you observe"
   ]
  },
  {
   "cell_type": "markdown",
   "metadata": {},
   "source": [
    "## 3. Sketching task – 1/2 A4 (Individual)"
   ]
  },
  {
   "cell_type": "markdown",
   "metadata": {},
   "source": [
    "### 3a. COUNT-MIN sketch\n"
   ]
  },
  {
   "cell_type": "code",
   "execution_count": null,
   "metadata": {},
   "outputs": [],
   "source": []
  },
  {
   "cell_type": "markdown",
   "metadata": {},
   "source": [
    "### 3b. Analysis and answers to the questions"
   ]
  },
  {
   "cell_type": "code",
   "execution_count": null,
   "metadata": {},
   "outputs": [],
   "source": []
  },
  {
   "cell_type": "markdown",
   "metadata": {},
   "source": [
    "## 4. Min-wise locality sensitive hashing task – 1/2 A4 (Nikhil Saldanha)"
   ]
  },
  {
   "cell_type": "markdown",
   "metadata": {},
   "source": [
    "### 4a. Implementation"
   ]
  },
  {
   "cell_type": "code",
   "execution_count": null,
   "metadata": {},
   "outputs": [],
   "source": []
  },
  {
   "cell_type": "markdown",
   "metadata": {},
   "source": [
    "### 4b. Analysis and answers to the questions"
   ]
  },
  {
   "cell_type": "markdown",
   "metadata": {},
   "source": [
    "1. Compare the run-time of a pair-wise distance computation with one that only considers profiles that end in the same bin.\n",
    "\n",
    "2. Explain any differences you observe\n"
   ]
  },
  {
   "cell_type": "markdown",
   "metadata": {},
   "source": [
    "## 5. Random hyperplane locality sensitive hashing task – 1/2 A4 (Individual)"
   ]
  },
  {
   "cell_type": "markdown",
   "metadata": {},
   "source": [
    "### 5a. Implementation - locality sensitive hashing"
   ]
  },
  {
   "cell_type": "code",
   "execution_count": null,
   "metadata": {},
   "outputs": [],
   "source": []
  },
  {
   "cell_type": "markdown",
   "metadata": {},
   "source": [
    "### 5b. Analysis and answers to the questions. Also provide relevant plots."
   ]
  },
  {
   "cell_type": "code",
   "execution_count": null,
   "metadata": {},
   "outputs": [],
   "source": []
  },
  {
   "cell_type": "markdown",
   "metadata": {},
   "source": [
    "## 6.Botnet profiling task – 1/2 A4"
   ]
  },
  {
   "cell_type": "markdown",
   "metadata": {},
   "source": [
    "### 6a. Learn a sequential model"
   ]
  },
  {
   "cell_type": "code",
   "execution_count": null,
   "metadata": {},
   "outputs": [],
   "source": []
  },
  {
   "cell_type": "markdown",
   "metadata": {},
   "source": [
    "### 6b. Analysis and answers to the questions."
   ]
  },
  {
   "cell_type": "code",
   "execution_count": null,
   "metadata": {},
   "outputs": [],
   "source": []
  },
  {
   "cell_type": "markdown",
   "metadata": {},
   "source": [
    "## 7.Botnet fingerprinting task – 1/2 A4"
   ]
  },
  {
   "cell_type": "markdown",
   "metadata": {},
   "source": [
    "### 7a. Fingerprinting\n"
   ]
  },
  {
   "cell_type": "code",
   "execution_count": null,
   "metadata": {},
   "outputs": [],
   "source": []
  },
  {
   "cell_type": "markdown",
   "metadata": {},
   "source": [
    "### 7b. Analysis and answers to the questions."
   ]
  },
  {
   "cell_type": "code",
   "execution_count": null,
   "metadata": {},
   "outputs": [],
   "source": []
  },
  {
   "cell_type": "markdown",
   "metadata": {},
   "source": [
    "## 8. Bonus Task 1/2 A4"
   ]
  },
  {
   "cell_type": "markdown",
   "metadata": {},
   "source": [
    "### 8a. Provide implementation and analysis."
   ]
  },
  {
   "cell_type": "code",
   "execution_count": null,
   "metadata": {},
   "outputs": [],
   "source": []
  }
 ],
 "metadata": {
  "kernelspec": {
   "display_name": "Python 3.8.2 64-bit ('env': venv)",
   "language": "python",
   "name": "python38264bitenvvenv7b9860dd079f4740a146ad2038fa480b"
  },
  "language_info": {
   "codemirror_mode": {
    "name": "ipython",
    "version": 3
   },
   "file_extension": ".py",
   "mimetype": "text/x-python",
   "name": "python",
   "nbconvert_exporter": "python",
   "pygments_lexer": "ipython3",
   "version": "3.8.2"
  }
 },
 "nbformat": 4,
 "nbformat_minor": 2
}
