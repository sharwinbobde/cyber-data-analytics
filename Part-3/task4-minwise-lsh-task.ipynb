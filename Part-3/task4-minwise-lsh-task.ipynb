{
 "cells": [
  {
   "cell_type": "markdown",
   "metadata": {},
   "source": [
    "# Min-wise locality sensitive hashing task\n",
    "\n",
    "## By Nikhil Saldanha(4998707)"
   ]
  },
  {
   "cell_type": "code",
   "execution_count": 1,
   "metadata": {},
   "outputs": [],
   "source": [
    "from collections import defaultdict"
   ]
  },
  {
   "cell_type": "code",
   "execution_count": 2,
   "metadata": {},
   "outputs": [],
   "source": [
    "from tqdm import tqdm\n",
    "\n",
    "from itertools import permutations\n",
    "\n",
    "import pandas as pd\n",
    "\n",
    "from nltk import ngrams\n",
    "\n",
    "from sklearn.preprocessing import LabelEncoder, OneHotEncoder\n",
    "\n",
    "import numpy as np\n",
    "\n",
    "import matplotlib.pyplot as plt\n",
    "\n",
    "from math import ceil, log2\n",
    "from primesieve import nth_prime\n",
    "from random import randint"
   ]
  },
  {
   "cell_type": "code",
   "execution_count": 3,
   "metadata": {},
   "outputs": [],
   "source": [
    "df = pd.read_csv(\"data/TotBytes_Dur_discretized.csv\")"
   ]
  },
  {
   "cell_type": "markdown",
   "metadata": {},
   "source": [
    "## We One-Hot Encode to get binarized ngram\n",
    "\n",
    "_Since according to the question_\n",
    "\n",
    "\"For this task, the profiles are binary, an N-gram (subsequence) exists (a 1 in the table) or does not (a 0 in the table)\""
   ]
  },
  {
   "cell_type": "code",
   "execution_count": 4,
   "metadata": {},
   "outputs": [
    {
     "name": "stderr",
     "output_type": "stream",
     "text": [
      "<ipython-input-4-9d708b59720f>:6: DeprecationWarning: The default dtype for empty Series will be 'object' instead of 'float64' in a future version. Specify a dtype explicitly to silence this warning.\n",
      "  ohe_df = pd.get_dummies(pd.Series(ng))\n"
     ]
    }
   ],
   "source": [
    "ohe_dfs = []\n",
    "for (src, dst), indexes in df[[\"SrcAddr\", \"DstAddr\", \"TotBytes_Dur\"]].groupby([\"SrcAddr\", \"DstAddr\"]).groups.items():\n",
    "    group_df = df.loc[indexes]\n",
    "    ng = set(ngrams(group_df[\"TotBytes_Dur\"], 3))\n",
    "    ng = list(map(str, ng))\n",
    "    ohe_df = pd.get_dummies(pd.Series(ng))\n",
    "    # ohe_df = ohe_df.assign(SrcAddr=src, DstAddr=dst)\n",
    "    ohe_dfs.append(ohe_df)"
   ]
  },
  {
   "cell_type": "markdown",
   "metadata": {},
   "source": [
    "We fill NaNs with 0 (where the ngram did not occur)"
   ]
  },
  {
   "cell_type": "code",
   "execution_count": 5,
   "metadata": {},
   "outputs": [],
   "source": [
    "profile_df = pd.concat(ohe_dfs).fillna(0)"
   ]
  },
  {
   "cell_type": "code",
   "execution_count": 6,
   "metadata": {
    "scrolled": false
   },
   "outputs": [
    {
     "data": {
      "text/html": [
       "<div>\n",
       "<style scoped>\n",
       "    .dataframe tbody tr th:only-of-type {\n",
       "        vertical-align: middle;\n",
       "    }\n",
       "\n",
       "    .dataframe tbody tr th {\n",
       "        vertical-align: top;\n",
       "    }\n",
       "\n",
       "    .dataframe thead th {\n",
       "        text-align: right;\n",
       "    }\n",
       "</style>\n",
       "<table border=\"1\" class=\"dataframe\">\n",
       "  <thead>\n",
       "    <tr style=\"text-align: right;\">\n",
       "      <th></th>\n",
       "      <th>(3.0, 3.0, 3.0)</th>\n",
       "      <th>(8.0, 3.0, 3.0)</th>\n",
       "      <th>(3.0, 3.0, 8.0)</th>\n",
       "      <th>(3.0, 8.0, 3.0)</th>\n",
       "      <th>(8.0, 3.0, 8.0)</th>\n",
       "      <th>(8.0, 8.0, 3.0)</th>\n",
       "      <th>(8.0, 8.0, 8.0)</th>\n",
       "      <th>(13.0, 8.0, 3.0)</th>\n",
       "      <th>(3.0, 13.0, 8.0)</th>\n",
       "      <th>(8.0, 3.0, 13.0)</th>\n",
       "      <th>...</th>\n",
       "      <th>(8.0, 16.0, 12.0)</th>\n",
       "      <th>(4.0, 7.0, 3.0)</th>\n",
       "      <th>(9.0, 4.0, 7.0)</th>\n",
       "      <th>(7.0, 9.0, 9.0)</th>\n",
       "      <th>(9.0, 7.0, 9.0)</th>\n",
       "      <th>(12.0, 12.0, 14.0)</th>\n",
       "      <th>(12.0, 14.0, 14.0)</th>\n",
       "      <th>(14.0, 14.0, 12.0)</th>\n",
       "      <th>(2.0, 4.0, 2.0)</th>\n",
       "      <th>(4.0, 2.0, 4.0)</th>\n",
       "    </tr>\n",
       "  </thead>\n",
       "  <tbody>\n",
       "    <tr>\n",
       "      <th>0</th>\n",
       "      <td>1.0</td>\n",
       "      <td>0.0</td>\n",
       "      <td>0.0</td>\n",
       "      <td>0.0</td>\n",
       "      <td>0.0</td>\n",
       "      <td>0.0</td>\n",
       "      <td>0.0</td>\n",
       "      <td>0.0</td>\n",
       "      <td>0.0</td>\n",
       "      <td>0.0</td>\n",
       "      <td>...</td>\n",
       "      <td>0.0</td>\n",
       "      <td>0.0</td>\n",
       "      <td>0.0</td>\n",
       "      <td>0.0</td>\n",
       "      <td>0.0</td>\n",
       "      <td>0.0</td>\n",
       "      <td>0.0</td>\n",
       "      <td>0.0</td>\n",
       "      <td>0.0</td>\n",
       "      <td>0.0</td>\n",
       "    </tr>\n",
       "    <tr>\n",
       "      <th>0</th>\n",
       "      <td>1.0</td>\n",
       "      <td>0.0</td>\n",
       "      <td>0.0</td>\n",
       "      <td>0.0</td>\n",
       "      <td>0.0</td>\n",
       "      <td>0.0</td>\n",
       "      <td>0.0</td>\n",
       "      <td>0.0</td>\n",
       "      <td>0.0</td>\n",
       "      <td>0.0</td>\n",
       "      <td>...</td>\n",
       "      <td>0.0</td>\n",
       "      <td>0.0</td>\n",
       "      <td>0.0</td>\n",
       "      <td>0.0</td>\n",
       "      <td>0.0</td>\n",
       "      <td>0.0</td>\n",
       "      <td>0.0</td>\n",
       "      <td>0.0</td>\n",
       "      <td>0.0</td>\n",
       "      <td>0.0</td>\n",
       "    </tr>\n",
       "    <tr>\n",
       "      <th>0</th>\n",
       "      <td>1.0</td>\n",
       "      <td>0.0</td>\n",
       "      <td>0.0</td>\n",
       "      <td>0.0</td>\n",
       "      <td>0.0</td>\n",
       "      <td>0.0</td>\n",
       "      <td>0.0</td>\n",
       "      <td>0.0</td>\n",
       "      <td>0.0</td>\n",
       "      <td>0.0</td>\n",
       "      <td>...</td>\n",
       "      <td>0.0</td>\n",
       "      <td>0.0</td>\n",
       "      <td>0.0</td>\n",
       "      <td>0.0</td>\n",
       "      <td>0.0</td>\n",
       "      <td>0.0</td>\n",
       "      <td>0.0</td>\n",
       "      <td>0.0</td>\n",
       "      <td>0.0</td>\n",
       "      <td>0.0</td>\n",
       "    </tr>\n",
       "    <tr>\n",
       "      <th>0</th>\n",
       "      <td>1.0</td>\n",
       "      <td>0.0</td>\n",
       "      <td>0.0</td>\n",
       "      <td>0.0</td>\n",
       "      <td>0.0</td>\n",
       "      <td>0.0</td>\n",
       "      <td>0.0</td>\n",
       "      <td>0.0</td>\n",
       "      <td>0.0</td>\n",
       "      <td>0.0</td>\n",
       "      <td>...</td>\n",
       "      <td>0.0</td>\n",
       "      <td>0.0</td>\n",
       "      <td>0.0</td>\n",
       "      <td>0.0</td>\n",
       "      <td>0.0</td>\n",
       "      <td>0.0</td>\n",
       "      <td>0.0</td>\n",
       "      <td>0.0</td>\n",
       "      <td>0.0</td>\n",
       "      <td>0.0</td>\n",
       "    </tr>\n",
       "    <tr>\n",
       "      <th>0</th>\n",
       "      <td>1.0</td>\n",
       "      <td>0.0</td>\n",
       "      <td>0.0</td>\n",
       "      <td>0.0</td>\n",
       "      <td>0.0</td>\n",
       "      <td>0.0</td>\n",
       "      <td>0.0</td>\n",
       "      <td>0.0</td>\n",
       "      <td>0.0</td>\n",
       "      <td>0.0</td>\n",
       "      <td>...</td>\n",
       "      <td>0.0</td>\n",
       "      <td>0.0</td>\n",
       "      <td>0.0</td>\n",
       "      <td>0.0</td>\n",
       "      <td>0.0</td>\n",
       "      <td>0.0</td>\n",
       "      <td>0.0</td>\n",
       "      <td>0.0</td>\n",
       "      <td>0.0</td>\n",
       "      <td>0.0</td>\n",
       "    </tr>\n",
       "    <tr>\n",
       "      <th>...</th>\n",
       "      <td>...</td>\n",
       "      <td>...</td>\n",
       "      <td>...</td>\n",
       "      <td>...</td>\n",
       "      <td>...</td>\n",
       "      <td>...</td>\n",
       "      <td>...</td>\n",
       "      <td>...</td>\n",
       "      <td>...</td>\n",
       "      <td>...</td>\n",
       "      <td>...</td>\n",
       "      <td>...</td>\n",
       "      <td>...</td>\n",
       "      <td>...</td>\n",
       "      <td>...</td>\n",
       "      <td>...</td>\n",
       "      <td>...</td>\n",
       "      <td>...</td>\n",
       "      <td>...</td>\n",
       "      <td>...</td>\n",
       "      <td>...</td>\n",
       "    </tr>\n",
       "    <tr>\n",
       "      <th>0</th>\n",
       "      <td>0.0</td>\n",
       "      <td>0.0</td>\n",
       "      <td>0.0</td>\n",
       "      <td>0.0</td>\n",
       "      <td>0.0</td>\n",
       "      <td>0.0</td>\n",
       "      <td>0.0</td>\n",
       "      <td>0.0</td>\n",
       "      <td>0.0</td>\n",
       "      <td>0.0</td>\n",
       "      <td>...</td>\n",
       "      <td>0.0</td>\n",
       "      <td>0.0</td>\n",
       "      <td>0.0</td>\n",
       "      <td>0.0</td>\n",
       "      <td>0.0</td>\n",
       "      <td>0.0</td>\n",
       "      <td>0.0</td>\n",
       "      <td>0.0</td>\n",
       "      <td>0.0</td>\n",
       "      <td>0.0</td>\n",
       "    </tr>\n",
       "    <tr>\n",
       "      <th>1</th>\n",
       "      <td>0.0</td>\n",
       "      <td>0.0</td>\n",
       "      <td>0.0</td>\n",
       "      <td>0.0</td>\n",
       "      <td>0.0</td>\n",
       "      <td>0.0</td>\n",
       "      <td>0.0</td>\n",
       "      <td>0.0</td>\n",
       "      <td>0.0</td>\n",
       "      <td>0.0</td>\n",
       "      <td>...</td>\n",
       "      <td>0.0</td>\n",
       "      <td>0.0</td>\n",
       "      <td>0.0</td>\n",
       "      <td>0.0</td>\n",
       "      <td>0.0</td>\n",
       "      <td>0.0</td>\n",
       "      <td>0.0</td>\n",
       "      <td>0.0</td>\n",
       "      <td>0.0</td>\n",
       "      <td>0.0</td>\n",
       "    </tr>\n",
       "    <tr>\n",
       "      <th>2</th>\n",
       "      <td>0.0</td>\n",
       "      <td>0.0</td>\n",
       "      <td>0.0</td>\n",
       "      <td>0.0</td>\n",
       "      <td>0.0</td>\n",
       "      <td>0.0</td>\n",
       "      <td>0.0</td>\n",
       "      <td>0.0</td>\n",
       "      <td>0.0</td>\n",
       "      <td>0.0</td>\n",
       "      <td>...</td>\n",
       "      <td>0.0</td>\n",
       "      <td>0.0</td>\n",
       "      <td>0.0</td>\n",
       "      <td>0.0</td>\n",
       "      <td>0.0</td>\n",
       "      <td>0.0</td>\n",
       "      <td>0.0</td>\n",
       "      <td>0.0</td>\n",
       "      <td>0.0</td>\n",
       "      <td>0.0</td>\n",
       "    </tr>\n",
       "    <tr>\n",
       "      <th>3</th>\n",
       "      <td>0.0</td>\n",
       "      <td>0.0</td>\n",
       "      <td>0.0</td>\n",
       "      <td>0.0</td>\n",
       "      <td>0.0</td>\n",
       "      <td>0.0</td>\n",
       "      <td>0.0</td>\n",
       "      <td>0.0</td>\n",
       "      <td>0.0</td>\n",
       "      <td>0.0</td>\n",
       "      <td>...</td>\n",
       "      <td>0.0</td>\n",
       "      <td>0.0</td>\n",
       "      <td>0.0</td>\n",
       "      <td>0.0</td>\n",
       "      <td>0.0</td>\n",
       "      <td>0.0</td>\n",
       "      <td>0.0</td>\n",
       "      <td>0.0</td>\n",
       "      <td>0.0</td>\n",
       "      <td>0.0</td>\n",
       "    </tr>\n",
       "    <tr>\n",
       "      <th>0</th>\n",
       "      <td>0.0</td>\n",
       "      <td>0.0</td>\n",
       "      <td>0.0</td>\n",
       "      <td>0.0</td>\n",
       "      <td>0.0</td>\n",
       "      <td>0.0</td>\n",
       "      <td>0.0</td>\n",
       "      <td>0.0</td>\n",
       "      <td>0.0</td>\n",
       "      <td>0.0</td>\n",
       "      <td>...</td>\n",
       "      <td>0.0</td>\n",
       "      <td>0.0</td>\n",
       "      <td>0.0</td>\n",
       "      <td>0.0</td>\n",
       "      <td>0.0</td>\n",
       "      <td>0.0</td>\n",
       "      <td>0.0</td>\n",
       "      <td>0.0</td>\n",
       "      <td>0.0</td>\n",
       "      <td>0.0</td>\n",
       "    </tr>\n",
       "  </tbody>\n",
       "</table>\n",
       "<p>1993 rows × 367 columns</p>\n",
       "</div>"
      ],
      "text/plain": [
       "    (3.0, 3.0, 3.0)  (8.0, 3.0, 3.0)  (3.0, 3.0, 8.0)  (3.0, 8.0, 3.0)  \\\n",
       "0               1.0              0.0              0.0              0.0   \n",
       "0               1.0              0.0              0.0              0.0   \n",
       "0               1.0              0.0              0.0              0.0   \n",
       "0               1.0              0.0              0.0              0.0   \n",
       "0               1.0              0.0              0.0              0.0   \n",
       "..              ...              ...              ...              ...   \n",
       "0               0.0              0.0              0.0              0.0   \n",
       "1               0.0              0.0              0.0              0.0   \n",
       "2               0.0              0.0              0.0              0.0   \n",
       "3               0.0              0.0              0.0              0.0   \n",
       "0               0.0              0.0              0.0              0.0   \n",
       "\n",
       "    (8.0, 3.0, 8.0)  (8.0, 8.0, 3.0)  (8.0, 8.0, 8.0)  (13.0, 8.0, 3.0)  \\\n",
       "0               0.0              0.0              0.0               0.0   \n",
       "0               0.0              0.0              0.0               0.0   \n",
       "0               0.0              0.0              0.0               0.0   \n",
       "0               0.0              0.0              0.0               0.0   \n",
       "0               0.0              0.0              0.0               0.0   \n",
       "..              ...              ...              ...               ...   \n",
       "0               0.0              0.0              0.0               0.0   \n",
       "1               0.0              0.0              0.0               0.0   \n",
       "2               0.0              0.0              0.0               0.0   \n",
       "3               0.0              0.0              0.0               0.0   \n",
       "0               0.0              0.0              0.0               0.0   \n",
       "\n",
       "    (3.0, 13.0, 8.0)  (8.0, 3.0, 13.0)  ...  (8.0, 16.0, 12.0)  \\\n",
       "0                0.0               0.0  ...                0.0   \n",
       "0                0.0               0.0  ...                0.0   \n",
       "0                0.0               0.0  ...                0.0   \n",
       "0                0.0               0.0  ...                0.0   \n",
       "0                0.0               0.0  ...                0.0   \n",
       "..               ...               ...  ...                ...   \n",
       "0                0.0               0.0  ...                0.0   \n",
       "1                0.0               0.0  ...                0.0   \n",
       "2                0.0               0.0  ...                0.0   \n",
       "3                0.0               0.0  ...                0.0   \n",
       "0                0.0               0.0  ...                0.0   \n",
       "\n",
       "    (4.0, 7.0, 3.0)  (9.0, 4.0, 7.0)  (7.0, 9.0, 9.0)  (9.0, 7.0, 9.0)  \\\n",
       "0               0.0              0.0              0.0              0.0   \n",
       "0               0.0              0.0              0.0              0.0   \n",
       "0               0.0              0.0              0.0              0.0   \n",
       "0               0.0              0.0              0.0              0.0   \n",
       "0               0.0              0.0              0.0              0.0   \n",
       "..              ...              ...              ...              ...   \n",
       "0               0.0              0.0              0.0              0.0   \n",
       "1               0.0              0.0              0.0              0.0   \n",
       "2               0.0              0.0              0.0              0.0   \n",
       "3               0.0              0.0              0.0              0.0   \n",
       "0               0.0              0.0              0.0              0.0   \n",
       "\n",
       "    (12.0, 12.0, 14.0)  (12.0, 14.0, 14.0)  (14.0, 14.0, 12.0)  \\\n",
       "0                  0.0                 0.0                 0.0   \n",
       "0                  0.0                 0.0                 0.0   \n",
       "0                  0.0                 0.0                 0.0   \n",
       "0                  0.0                 0.0                 0.0   \n",
       "0                  0.0                 0.0                 0.0   \n",
       "..                 ...                 ...                 ...   \n",
       "0                  0.0                 0.0                 0.0   \n",
       "1                  0.0                 0.0                 0.0   \n",
       "2                  0.0                 0.0                 0.0   \n",
       "3                  0.0                 0.0                 0.0   \n",
       "0                  0.0                 0.0                 0.0   \n",
       "\n",
       "    (2.0, 4.0, 2.0)  (4.0, 2.0, 4.0)  \n",
       "0               0.0              0.0  \n",
       "0               0.0              0.0  \n",
       "0               0.0              0.0  \n",
       "0               0.0              0.0  \n",
       "0               0.0              0.0  \n",
       "..              ...              ...  \n",
       "0               0.0              0.0  \n",
       "1               0.0              0.0  \n",
       "2               0.0              0.0  \n",
       "3               0.0              0.0  \n",
       "0               0.0              0.0  \n",
       "\n",
       "[1993 rows x 367 columns]"
      ]
     },
     "execution_count": 6,
     "metadata": {},
     "output_type": "execute_result"
    }
   ],
   "source": [
    "profile_df"
   ]
  },
  {
   "cell_type": "markdown",
   "metadata": {},
   "source": [
    "We create a table with each row as the profile of a host, which is comprized of the one-hot encoded ngrams. Computing similarity between rows should give us similarity between hosts"
   ]
  },
  {
   "cell_type": "code",
   "execution_count": 7,
   "metadata": {},
   "outputs": [],
   "source": [
    "profile = profile_df.to_numpy()"
   ]
  },
  {
   "cell_type": "markdown",
   "metadata": {},
   "source": [
    "# Transpose profile to have hosts as the columns\n",
    "\n",
    "The minwise lsh algorithm is defined as a similarity between column. So, we transpose the above table to be able to use this algorithm"
   ]
  },
  {
   "cell_type": "code",
   "execution_count": 8,
   "metadata": {},
   "outputs": [],
   "source": [
    "profile = profile.T"
   ]
  },
  {
   "cell_type": "markdown",
   "metadata": {},
   "source": [
    "### Create permutations of all possible pairs of IPs"
   ]
  },
  {
   "cell_type": "code",
   "execution_count": 9,
   "metadata": {},
   "outputs": [],
   "source": [
    "# create permutations\n",
    "perm = list(permutations([i for i in range(profile.shape[1])], 2))"
   ]
  },
  {
   "cell_type": "markdown",
   "metadata": {},
   "source": [
    "## Jaccard Similarity of columns\n",
    "\n",
    "Before we compute the min-wise LSH to get a faster computation of similarity between hosts. We perform jaccard similarity between the host profiles as a baseline. This metric should be very accurate but it is quite expensive to perform as it involves comparison between every ngram."
   ]
  },
  {
   "cell_type": "markdown",
   "metadata": {},
   "source": [
    "### Note: this can take about 4-5 minutes"
   ]
  },
  {
   "cell_type": "code",
   "execution_count": 14,
   "metadata": {},
   "outputs": [],
   "source": [
    "def jaccard_sim(perm, profile):\n",
    "    jacc = []\n",
    "    \n",
    "    for p in tqdm(perm):\n",
    "        p1 = np.asarray(profile[:, p[0]], np.bool)\n",
    "        p2 = np.asarray(profile[:, p[1]], np.bool)\n",
    "        j = np.double(np.bitwise_and(p1, p2).sum()) / np.double(np.bitwise_or(p1, p2).sum())\n",
    "        jacc.append(j)\n",
    "    return np.array(jacc)"
   ]
  },
  {
   "cell_type": "code",
   "execution_count": 15,
   "metadata": {},
   "outputs": [
    {
     "name": "stderr",
     "output_type": "stream",
     "text": [
      "100%|██████████| 3970056/3970056 [03:02<00:00, 21704.81it/s]\n"
     ]
    }
   ],
   "source": [
    "jacc = jaccard_sim(perm, profile)"
   ]
  },
  {
   "cell_type": "markdown",
   "metadata": {},
   "source": [
    "We see that this takes quite a long time to compute the similarity as it compares every ngram between pairs of profiles. Let us compare this with the time taken to compute the signature similarity(which we compute later). We expect jaccard similarity to take much more time."
   ]
  },
  {
   "cell_type": "markdown",
   "metadata": {},
   "source": [
    "## Universal Hashing\n",
    "\n",
    "This is a method of constructing a hash function by selecting a hash function at random from a family of hash functions with a certain mathematical property. This guarantees a low number of collisions in expectation. We compute the hash here by the mathematical property of having a certain remainder(equal to number of buckets) after division of a polynomial by a large prime number. This ensures that there are few candidates in the same bucket."
   ]
  },
  {
   "cell_type": "code",
   "execution_count": 16,
   "metadata": {},
   "outputs": [],
   "source": [
    "class UniversalHashing:\n",
    "    \"\"\"\n",
    "    N = #bins\n",
    "    p = prime number st: p >= N\n",
    "    \"\"\"\n",
    "    def __init__(self, N, p = None):\n",
    "        self.N = N\n",
    "        if p is None:\n",
    "            p = nth_prime(1, 1 << max(32, ceil(log2(N))))\n",
    "        assert p >= N, 'Prime number p should be at least N!'\n",
    "        self.p = p\n",
    "\n",
    "    def draw(self):\n",
    "        a = randint(1, self.p - 1)\n",
    "        b = randint(0, self.p - 1)\n",
    "        return lambda x: ((a * x + b) % self.p) % self.N"
   ]
  },
  {
   "cell_type": "markdown",
   "metadata": {},
   "source": [
    "## Minwise Locality Sensitive Hashing\n",
    "\n",
    "We hash the profiles using minwise lsh to a reduced space. The hope is that the properties of jaccard similarity is preserved in this reduced space. Hence allowing us to compute distances much faster."
   ]
  },
  {
   "cell_type": "code",
   "execution_count": 17,
   "metadata": {},
   "outputs": [],
   "source": [
    "def compute_minwise_lsh(profile, bins):\n",
    "    num_hash_fns = 100\n",
    "    H = UniversalHashing(bins)\n",
    "    hash_fns = []\n",
    "    for i in range(num_hash_fns):\n",
    "        hash_fns.append(H.draw())\n",
    "    h = defaultdict(dict)\n",
    "    M = np.full([num_hash_fns, profile.shape[1]], np.inf)\n",
    "    for r in range(profile.shape[0]):\n",
    "        # compute hash values\n",
    "        for i, h_i in enumerate(hash_fns):\n",
    "            # compute h_i(profile[r])\n",
    "            h[i][r] = h_i(r)\n",
    "        for c in range(profile.shape[1]):\n",
    "            if profile[r, c] == 1:\n",
    "                for i in range(num_hash_fns):\n",
    "                    if h[i][r] < M[i, c]:\n",
    "                        M[i, c] = h[i][r]\n",
    "    return M"
   ]
  },
  {
   "cell_type": "code",
   "execution_count": 22,
   "metadata": {},
   "outputs": [
    {
     "data": {
      "text/plain": [
       "1"
      ]
     },
     "execution_count": 22,
     "metadata": {},
     "output_type": "execute_result"
    }
   ],
   "source": [
    "(np.array([1, 2, 3]) == np.array([3, 2, 1])).sum()"
   ]
  },
  {
   "cell_type": "code",
   "execution_count": 23,
   "metadata": {},
   "outputs": [],
   "source": [
    "def signature_sim(perm, M):\n",
    "    sig_sim = []\n",
    "    for p in tqdm(perm):\n",
    "        p1 = M[:, p[0]]\n",
    "        p2 = M[:, p[1]]\n",
    "\n",
    "        tot = M.shape[0]\n",
    "        sim = (p1 == p2).sum()\n",
    "        sig_sim.append(sim/tot)\n",
    "    return sig_sim"
   ]
  },
  {
   "cell_type": "markdown",
   "metadata": {},
   "source": [
    "## Signature Similarity\n",
    "\n",
    "We compute the minwise lsh for the profile of each ip pair to get a signature matrix M which should hash similar profiles together. We test out the minwise lsh with 100 hash functions generated via universal hashing. We would like to see the effect of varying the number of bins on the accuracy of the similarity metric with respect to the jaccard similarity.\n",
    "\n",
    "To do this, we compute a mean sum of squares error between the jaccard similarity and the signature similarity computed via the hashes.\n",
    "\n",
    "We expect that the similarity scores will tend toward the jaccard similarity as the number of bins are increased, approximating a better score."
   ]
  },
  {
   "cell_type": "code",
   "execution_count": 24,
   "metadata": {},
   "outputs": [
    {
     "name": "stderr",
     "output_type": "stream",
     "text": [
      "100%|██████████| 3970056/3970056 [01:17<00:00, 50931.07it/s]\n",
      "100%|██████████| 3970056/3970056 [01:19<00:00, 49766.95it/s]\n",
      "100%|██████████| 3970056/3970056 [01:25<00:00, 46630.61it/s]\n",
      "100%|██████████| 3970056/3970056 [01:20<00:00, 49171.62it/s]\n"
     ]
    }
   ],
   "source": [
    "bins = [10, 20, 50, 100]\n",
    "sig_sims = []\n",
    "for b in bins:\n",
    "    M = compute_minwise_lsh(profile, b)\n",
    "    sig_sim = np.array(signature_sim(perm, M))\n",
    "    sig_sims.append(sig_sim)"
   ]
  },
  {
   "cell_type": "markdown",
   "metadata": {},
   "source": [
    "We notice that each similarity computation takes about 1.5 minutes while, if we recall, jaccard similarity took about 4 minutes. This is a large speedup in terms of performance due to the fact that we have a reduced space due to hashing."
   ]
  },
  {
   "cell_type": "code",
   "execution_count": 25,
   "metadata": {},
   "outputs": [],
   "source": [
    "import math"
   ]
  },
  {
   "cell_type": "markdown",
   "metadata": {},
   "source": [
    "### Compute Error of estimation"
   ]
  },
  {
   "cell_type": "code",
   "execution_count": 26,
   "metadata": {},
   "outputs": [],
   "source": [
    "errors = []\n",
    "for sig_sim in sig_sims:\n",
    "    error = [math.sqrt((s - j)**2) for s, j in zip(sig_sim, jacc)]\n",
    "    errors.append(sum(error)/len(error))"
   ]
  },
  {
   "cell_type": "code",
   "execution_count": 27,
   "metadata": {
    "scrolled": false
   },
   "outputs": [
    {
     "data": {
      "text/plain": [
       "Text(0, 0.5, 'error in signature similarity(as compared to jaccard similarity)')"
      ]
     },
     "execution_count": 27,
     "metadata": {},
     "output_type": "execute_result"
    },
    {
     "data": {
      "image/png": "[encoded data removed]",
      "text/plain": [
       "<Figure size 1584x576 with 1 Axes>"
      ]
     },
     "metadata": {
      "needs_background": "light"
     },
     "output_type": "display_data"
    }
   ],
   "source": [
    "f, ax = plt.subplots(1, 1, figsize =(22, 8))\n",
    "ax.plot(bins, errors)\n",
    "ax.set_title(\"error in signature similarity vs. number of bins used to do lsh\")\n",
    "ax.set_xlabel(\"number of bins used\")\n",
    "ax.set_ylabel(\"error in signature similarity(as compared to jaccard similarity)\")"
   ]
  },
  {
   "cell_type": "markdown",
   "metadata": {},
   "source": [
    "We see that the error follows the expected downward trend as trend as the bins are increased. After 50 bins, the reduction in error is not that much and so we could say that 50 is a reasonable amount of bins"
   ]
  }
 ],
 "metadata": {
  "kernelspec": {
   "display_name": "Python 3.8.2 64-bit ('env': venv)",
   "language": "python",
   "name": "python38264bitenvvenv7b9860dd079f4740a146ad2038fa480b"
  },
  "language_info": {
   "codemirror_mode": {
    "name": "ipython",
    "version": 3
   },
   "file_extension": ".py",
   "mimetype": "text/x-python",
   "name": "python",
   "nbconvert_exporter": "python",
   "pygments_lexer": "ipython3",
   "version": "3.8.2"
  }
 },
 "nbformat": 4,
 "nbformat_minor": 4
}
