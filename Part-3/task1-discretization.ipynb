{
 "cells": [
  {
   "cell_type": "markdown",
   "metadata": {},
   "source": [
    "# 1. Familiarization and discretization task"
   ]
  },
  {
   "cell_type": "code",
   "execution_count": 1,
   "metadata": {},
   "outputs": [],
   "source": [
    "from sklearn.cluster import KMeans\n",
    "import seaborn as sns\n",
    "from scipy.stats import spearmanr\n",
    "from functools import reduce\n",
    "import pandas as pd\n",
    "import matplotlib.pyplot as plt\n",
    "from tqdm import tqdm\n",
    "from preprocessing import *\n",
    "from sklearn.preprocessing import LabelEncoder"
   ]
  },
  {
   "cell_type": "markdown",
   "metadata": {},
   "source": [
    "We will use this part to generate discretised featurs for the required scenarios 9, 10, 11, 12. Though for you, this part will only run scenario 10."
   ]
  },
  {
   "cell_type": "code",
   "execution_count": 2,
   "metadata": {},
   "outputs": [],
   "source": [
    "# df = pd.read_csv(\"data/CTU-13-Dataset/9/capture20110817.binetflow\")\n",
    "df = pd.read_csv(\"data/CTU-13-Dataset/10/capture20110818.binetflow\")\n",
    "# df = pd.read_csv(\"data/CTU-13-Dataset/11/capture20110818-2.binetflow\")\n",
    "# df = pd.read_csv(\"data/CTU-13-Dataset/12/capture20110819.binetflow\")\n",
    "\n",
    "selected_scenario = 10"
   ]
  },
  {
   "cell_type": "code",
   "execution_count": 3,
   "metadata": {},
   "outputs": [
    {
     "data": {
      "text/plain": [
       "Index(['StartTime', 'Dur', 'Proto', 'SrcAddr', 'Sport', 'Dir', 'DstAddr',\n",
       "       'Dport', 'State', 'sTos', 'dTos', 'TotPkts', 'TotBytes', 'SrcBytes',\n",
       "       'Label'],\n",
       "      dtype='object')"
      ]
     },
     "execution_count": 3,
     "metadata": {},
     "output_type": "execute_result"
    }
   ],
   "source": [
    "df.columns"
   ]
  },
  {
   "cell_type": "code",
   "execution_count": 4,
   "metadata": {
    "scrolled": true
   },
   "outputs": [
    {
     "data": {
      "text/html": [
       "<div>\n",
       "<style scoped>\n",
       "    .dataframe tbody tr th:only-of-type {\n",
       "        vertical-align: middle;\n",
       "    }\n",
       "\n",
       "    .dataframe tbody tr th {\n",
       "        vertical-align: top;\n",
       "    }\n",
       "\n",
       "    .dataframe thead th {\n",
       "        text-align: right;\n",
       "    }\n",
       "</style>\n",
       "<table border=\"1\" class=\"dataframe\">\n",
       "  <thead>\n",
       "    <tr style=\"text-align: right;\">\n",
       "      <th></th>\n",
       "      <th>StartTime</th>\n",
       "      <th>Dur</th>\n",
       "      <th>Proto</th>\n",
       "      <th>SrcAddr</th>\n",
       "      <th>Sport</th>\n",
       "      <th>Dir</th>\n",
       "      <th>DstAddr</th>\n",
       "      <th>Dport</th>\n",
       "      <th>State</th>\n",
       "      <th>sTos</th>\n",
       "      <th>dTos</th>\n",
       "      <th>TotPkts</th>\n",
       "      <th>TotBytes</th>\n",
       "      <th>SrcBytes</th>\n",
       "      <th>Label</th>\n",
       "    </tr>\n",
       "  </thead>\n",
       "  <tbody>\n",
       "    <tr>\n",
       "      <th>0</th>\n",
       "      <td>2011/08/18 10:21:46.633335</td>\n",
       "      <td>1.060248</td>\n",
       "      <td>tcp</td>\n",
       "      <td>93.45.239.29</td>\n",
       "      <td>1611</td>\n",
       "      <td>-&gt;</td>\n",
       "      <td>147.32.84.118</td>\n",
       "      <td>6881</td>\n",
       "      <td>S_RA</td>\n",
       "      <td>0.0</td>\n",
       "      <td>0.0</td>\n",
       "      <td>4</td>\n",
       "      <td>252</td>\n",
       "      <td>132</td>\n",
       "      <td>flow=Background-TCP-Attempt</td>\n",
       "    </tr>\n",
       "    <tr>\n",
       "      <th>1</th>\n",
       "      <td>2011/08/18 10:19:49.027650</td>\n",
       "      <td>279.349152</td>\n",
       "      <td>tcp</td>\n",
       "      <td>62.240.166.118</td>\n",
       "      <td>1031</td>\n",
       "      <td>&lt;?&gt;</td>\n",
       "      <td>147.32.84.229</td>\n",
       "      <td>13363</td>\n",
       "      <td>SRPA_PA</td>\n",
       "      <td>0.0</td>\n",
       "      <td>0.0</td>\n",
       "      <td>15</td>\n",
       "      <td>1318</td>\n",
       "      <td>955</td>\n",
       "      <td>flow=Background-TCP-Attempt</td>\n",
       "    </tr>\n",
       "    <tr>\n",
       "      <th>2</th>\n",
       "      <td>2011/08/18 10:22:07.160628</td>\n",
       "      <td>166.390015</td>\n",
       "      <td>tcp</td>\n",
       "      <td>147.32.86.148</td>\n",
       "      <td>58067</td>\n",
       "      <td>-&gt;</td>\n",
       "      <td>66.235.132.232</td>\n",
       "      <td>80</td>\n",
       "      <td>SR_SA</td>\n",
       "      <td>0.0</td>\n",
       "      <td>0.0</td>\n",
       "      <td>3</td>\n",
       "      <td>212</td>\n",
       "      <td>134</td>\n",
       "      <td>flow=Background-TCP-Established</td>\n",
       "    </tr>\n",
       "    <tr>\n",
       "      <th>3</th>\n",
       "      <td>2011/08/18 10:26:02.052163</td>\n",
       "      <td>1.187083</td>\n",
       "      <td>tcp</td>\n",
       "      <td>147.32.3.51</td>\n",
       "      <td>3130</td>\n",
       "      <td>-&gt;</td>\n",
       "      <td>147.32.84.46</td>\n",
       "      <td>10010</td>\n",
       "      <td>S_RA</td>\n",
       "      <td>0.0</td>\n",
       "      <td>0.0</td>\n",
       "      <td>4</td>\n",
       "      <td>244</td>\n",
       "      <td>124</td>\n",
       "      <td>flow=Background-TCP-Attempt</td>\n",
       "    </tr>\n",
       "    <tr>\n",
       "      <th>4</th>\n",
       "      <td>2011/08/18 10:26:52.226748</td>\n",
       "      <td>0.980571</td>\n",
       "      <td>tcp</td>\n",
       "      <td>88.212.37.169</td>\n",
       "      <td>3134</td>\n",
       "      <td>-&gt;</td>\n",
       "      <td>147.32.84.118</td>\n",
       "      <td>6881</td>\n",
       "      <td>S_RA</td>\n",
       "      <td>0.0</td>\n",
       "      <td>0.0</td>\n",
       "      <td>4</td>\n",
       "      <td>244</td>\n",
       "      <td>124</td>\n",
       "      <td>flow=Background-TCP-Attempt</td>\n",
       "    </tr>\n",
       "  </tbody>\n",
       "</table>\n",
       "</div>"
      ],
      "text/plain": [
       "                    StartTime         Dur Proto         SrcAddr  Sport    Dir  \\\n",
       "0  2011/08/18 10:21:46.633335    1.060248   tcp    93.45.239.29   1611     ->   \n",
       "1  2011/08/18 10:19:49.027650  279.349152   tcp  62.240.166.118   1031    <?>   \n",
       "2  2011/08/18 10:22:07.160628  166.390015   tcp   147.32.86.148  58067     ->   \n",
       "3  2011/08/18 10:26:02.052163    1.187083   tcp     147.32.3.51   3130     ->   \n",
       "4  2011/08/18 10:26:52.226748    0.980571   tcp   88.212.37.169   3134     ->   \n",
       "\n",
       "          DstAddr  Dport    State  sTos  dTos  TotPkts  TotBytes  SrcBytes  \\\n",
       "0   147.32.84.118   6881     S_RA   0.0   0.0        4       252       132   \n",
       "1   147.32.84.229  13363  SRPA_PA   0.0   0.0       15      1318       955   \n",
       "2  66.235.132.232     80    SR_SA   0.0   0.0        3       212       134   \n",
       "3    147.32.84.46  10010     S_RA   0.0   0.0        4       244       124   \n",
       "4   147.32.84.118   6881     S_RA   0.0   0.0        4       244       124   \n",
       "\n",
       "                             Label  \n",
       "0      flow=Background-TCP-Attempt  \n",
       "1      flow=Background-TCP-Attempt  \n",
       "2  flow=Background-TCP-Established  \n",
       "3      flow=Background-TCP-Attempt  \n",
       "4      flow=Background-TCP-Attempt  "
      ]
     },
     "execution_count": 4,
     "metadata": {},
     "output_type": "execute_result"
    }
   ],
   "source": [
    "df.head()"
   ]
  },
  {
   "cell_type": "markdown",
   "metadata": {},
   "source": [
    "## Encode Labels\n",
    "\n",
    "- normal = 0\n",
    "- botnet = 1\n",
    "- background = 2"
   ]
  },
  {
   "cell_type": "code",
   "execution_count": 5,
   "metadata": {
    "scrolled": false
   },
   "outputs": [],
   "source": [
    "df_encoded = encode_labels(df)"
   ]
  },
  {
   "cell_type": "markdown",
   "metadata": {},
   "source": [
    "The counts of the flows match what is given on the website"
   ]
  },
  {
   "cell_type": "code",
   "execution_count": 6,
   "metadata": {},
   "outputs": [
    {
     "data": {
      "text/plain": [
       "2    1187592\n",
       "1     106352\n",
       "0      15847\n",
       "Name: Label, dtype: int64"
      ]
     },
     "execution_count": 6,
     "metadata": {},
     "output_type": "execute_result"
    }
   ],
   "source": [
    "df_encoded[\"Label\"].value_counts()"
   ]
  },
  {
   "cell_type": "markdown",
   "metadata": {},
   "source": [
    "## Check for NaNs"
   ]
  },
  {
   "cell_type": "code",
   "execution_count": 7,
   "metadata": {},
   "outputs": [
    {
     "data": {
      "text/plain": [
       "StartTime         0\n",
       "Dur               0\n",
       "Proto             0\n",
       "SrcAddr           0\n",
       "Sport          6987\n",
       "Dir               0\n",
       "DstAddr           0\n",
       "Dport        104215\n",
       "State          1228\n",
       "sTos          12852\n",
       "dTos         186791\n",
       "TotPkts           0\n",
       "TotBytes          0\n",
       "SrcBytes          0\n",
       "Label             0\n",
       "dtype: int64"
      ]
     },
     "execution_count": 7,
     "metadata": {},
     "output_type": "execute_result"
    }
   ],
   "source": [
    "df.isna().sum()"
   ]
  },
  {
   "cell_type": "markdown",
   "metadata": {},
   "source": [
    "### Encode features"
   ]
  },
  {
   "cell_type": "code",
   "execution_count": 8,
   "metadata": {},
   "outputs": [],
   "source": [
    "import pickle\n",
    "\n",
    "df_encoded.loc[df_encoded[\"Sport\"].isna(), \"Sport\"] = \"UNK\"\n",
    "sport_enc = LabelEncoder()\n",
    "df_encoded.loc[:, \"Sport\"] = sport_enc.fit_transform(df_encoded[\"Sport\"])\n",
    "\n",
    "df_encoded.loc[df_encoded[\"Dport\"].isna(), \"Dport\"] = \"UNK\"\n",
    "dport_enc = LabelEncoder()\n",
    "df_encoded.loc[:, \"Dport\"] = dport_enc.fit_transform(df_encoded[\"Dport\"])\n",
    "\n",
    "df_encoded.loc[df_encoded[\"State\"].isna(), \"State\"] = \"UNK\"\n",
    "state_enc = LabelEncoder()\n",
    "df_encoded.loc[:, \"State\"] = state_enc.fit_transform(df_encoded[\"State\"])\n",
    "\n",
    "df_encoded.loc[df_encoded[\"sTos\"].isna(), \"sTos\"] = -999\n",
    "stos_enc = LabelEncoder()\n",
    "df_encoded.loc[:, \"sTos\"] = stos_enc.fit_transform(df_encoded[\"sTos\"])\n",
    "\n",
    "df_encoded.loc[df_encoded[\"dTos\"].isna(), \"dTos\"] = -999\n",
    "dtos_enc = LabelEncoder()\n",
    "df_encoded.loc[:, \"dTos\"] = dtos_enc.fit_transform(df_encoded[\"dTos\"])\n",
    "\n",
    "proto_enc = LabelEncoder()\n",
    "df_encoded.loc[:, \"Proto\"] = proto_enc.fit_transform(df_encoded[\"Proto\"])\n",
    "\n",
    "dir_enc = LabelEncoder()\n",
    "df_encoded.loc[:, \"Dir\"] = dir_enc.fit_transform(df_encoded[\"Dir\"])\n",
    "\n",
    "srcaddr_enc = LabelEncoder()\n",
    "df_encoded.loc[:, \"SrcAddr\"] = srcaddr_enc.fit_transform(df_encoded[\"SrcAddr\"])\n",
    "# pickle.dump(srcaddr_enc, open('./data/utils/SrcAddr_LabelEncoder_'+str(selected_scenario)+'.pkl', 'wb'))\n",
    "\n",
    "dstaddr_enc = LabelEncoder()\n",
    "df_encoded.loc[:, \"DstAddr\"] = dstaddr_enc.fit_transform(df_encoded[\"DstAddr\"])\n",
    "# pickle.dump(dstaddr_enc, open('./data/utils/DstAddr_LabelEncoder_'+str(selected_scenario)+'.pkl', 'wb'))"
   ]
  },
  {
   "cell_type": "markdown",
   "metadata": {},
   "source": [
    "## Drop Background flows"
   ]
  },
  {
   "cell_type": "code",
   "execution_count": 9,
   "metadata": {},
   "outputs": [],
   "source": [
    "df_filtered = drop_background_flows(df_encoded)"
   ]
  },
  {
   "cell_type": "code",
   "execution_count": 10,
   "metadata": {},
   "outputs": [
    {
     "data": {
      "text/plain": [
       "1    106352\n",
       "0     15847\n",
       "Name: Label, dtype: int64"
      ]
     },
     "execution_count": 10,
     "metadata": {},
     "output_type": "execute_result"
    }
   ],
   "source": [
    "df_filtered[\"Label\"].value_counts()"
   ]
  },
  {
   "cell_type": "markdown",
   "metadata": {},
   "source": [
    "## Find correlations between features and label\n",
    "\n",
    "We try 2 approaches:\n",
    "\n",
    "- Do a scatterplot to see if there are any patterns visible\n",
    "- Do a correlation test"
   ]
  },
  {
   "cell_type": "markdown",
   "metadata": {},
   "source": [
    "We find Duration and Total Bytes to be highly correlated with the label and choose to combine these into a single discretized feature. These two features also encapsulate some of the other features such as Total Packets and Source Bytes."
   ]
  },
  {
   "cell_type": "code",
   "execution_count": 14,
   "metadata": {},
   "outputs": [
    {
     "data": {
      "image/png": "[encoded data removed]",
      "text/plain": [
       "<Figure size 1008x72 with 2 Axes>"
      ]
     },
     "metadata": {
      "needs_background": "light"
     },
     "output_type": "display_data"
    }
   ],
   "source": [
    "#correlation matrices\n",
    "f, (ax1) = plt.subplots(1,figsize =(14, 1))\n",
    "sns.heatmap(df_filtered.corr(\"spearman\").loc[['Label']],cmap = 'coolwarm', annot=True)\n",
    "ax1.set_title('Complete Data')\n",
    "plt.show()\n",
    "\n",
    "\n",
    "# f, (ax1, ax2) = plt.subplots(1,2,figsize =(16, 8))\n",
    "\n",
    "# sns.heatmap(df_filtered[df_filtered[\"Label\"] == 1].corr(\"spearman\"), vmax = .8, square=True, ax = ax1, cmap = 'YlGnBu')\n",
    "# ax1.set_title('Malicious')\n",
    "\n",
    "# sns.heatmap(df_filtered[df_filtered[\"Label\"] == 0].corr(\"spearman\"), vmax = .8, square=True, ax = ax2, cmap = 'YlGnBu');\n",
    "# ax2.set_title('Normal')\n",
    "\n",
    "# plt.show()"
   ]
  },
  {
   "cell_type": "markdown",
   "metadata": {},
   "source": [
    "Just to be sure, we do a hypothesis test"
   ]
  },
  {
   "cell_type": "code",
   "execution_count": 13,
   "metadata": {},
   "outputs": [
    {
     "name": "stdout",
     "output_type": "stream",
     "text": [
      "Spearmans correlation coefficient: 0.501\n",
      "Samples are correlated (reject H0) p=0.000\n"
     ]
    }
   ],
   "source": [
    "coef, p = spearmanr(df_filtered[\"Label\"], df_filtered[\"TotBytes\"])\n",
    "print('Spearmans correlation coefficient: %.3f' % coef)\n",
    "# interpret the significance\n",
    "alpha = 0.05\n",
    "if p > alpha:\n",
    "    print('Samples are uncorrelated (fail to reject H0) p=%.3f' % p)\n",
    "else:\n",
    "    print('Samples are correlated (reject H0) p=%.3f' % p)"
   ]
  },
  {
   "cell_type": "code",
   "execution_count": 14,
   "metadata": {},
   "outputs": [
    {
     "name": "stdout",
     "output_type": "stream",
     "text": [
      "Spearmans correlation coefficient: -0.627\n",
      "Samples are correlated (reject H0) p=0.000\n"
     ]
    }
   ],
   "source": [
    "coef, p = spearmanr(df_filtered[\"Label\"], df_filtered[\"Dur\"])\n",
    "print('Spearmans correlation coefficient: %.3f' % coef)\n",
    "# interpret the significance\n",
    "alpha = 0.05\n",
    "if p > alpha:\n",
    "    print('Samples are uncorrelated (fail to reject H0) p=%.3f' % p)\n",
    "else:\n",
    "    print('Samples are correlated (reject H0) p=%.3f' % p)"
   ]
  },
  {
   "cell_type": "markdown",
   "metadata": {},
   "source": [
    "We can also see the difference in the distribution of the features which are different for normal(blue) and botnet(red). We visualize this below"
   ]
  },
  {
   "cell_type": "code",
   "execution_count": 23,
   "metadata": {
    "scrolled": false
   },
   "outputs": [
    {
     "data": {
      "text/plain": [
       "<matplotlib.legend.Legend at 0x1235acf10>"
      ]
     },
     "execution_count": 23,
     "metadata": {},
     "output_type": "execute_result"
    },
    {
     "data": {
      "image/png": "[encoded data removed]",
      "text/plain": [
       "<Figure size 1584x576 with 1 Axes>"
      ]
     },
     "metadata": {
      "needs_background": "light"
     },
     "output_type": "display_data"
    }
   ],
   "source": [
    "f, (ax) = plt.subplots(1,figsize =(22, 8))\n",
    "ax.scatter(df_filtered.loc[df_filtered[\"Label\"] == 0].index, df_filtered.loc[df_filtered[\"Label\"] == 0, \"Dur\"], color=\"blue\", label=\"normal flow\")\n",
    "ax.scatter(df_filtered.loc[(df_filtered[\"Label\"] == 1)].index, df_filtered.loc[(df_filtered[\"Label\"] == 1), \"Dur\"], color=\"red\", label=\"malicious flow\")\n",
    "ax.set_title(\"Duration of flows vs. Time\")\n",
    "ax.set_xlabel(\"Time\")\n",
    "ax.set_ylabel(\"Duration of flows\")\n",
    "ax.legend()"
   ]
  },
  {
   "cell_type": "code",
   "execution_count": 25,
   "metadata": {},
   "outputs": [
    {
     "data": {
      "text/plain": [
       "<matplotlib.legend.Legend at 0x12a8f7970>"
      ]
     },
     "execution_count": 25,
     "metadata": {},
     "output_type": "execute_result"
    },
    {
     "data": {
      "image/png": "[encoded data removed]",
      "text/plain": [
       "<Figure size 1584x576 with 1 Axes>"
      ]
     },
     "metadata": {
      "needs_background": "light"
     },
     "output_type": "display_data"
    }
   ],
   "source": [
    "f, (ax) = plt.subplots(1,figsize =(22, 8))\n",
    "ax.scatter(df_filtered.loc[df_filtered[\"Label\"] == 0].index, df_filtered.loc[df_filtered[\"Label\"] == 0, \"TotBytes\"], color=\"blue\", label=\"normal flow\")\n",
    "ax.scatter(df_filtered.loc[(df_filtered[\"Label\"] == 1)&(df_filtered[\"TotBytes\"] <1e8)].index, df_filtered.loc[(df_filtered[\"Label\"] == 1)&(df_filtered[\"TotBytes\"] <1e8), \"TotBytes\"], color=\"red\", label=\"malicious flow\")\n",
    "ax.set_title(\"Total Bytes transmitted in flows vs. Time\")\n",
    "ax.set_xlabel(\"Time\")\n",
    "ax.set_ylabel(\"Total Bytes\")\n",
    "ax.legend()"
   ]
  },
  {
   "cell_type": "markdown",
   "metadata": {},
   "source": [
    "**Do you observe any behavior in the two features that could be useful for detecting the infection?**\n",
    "We can clearly see that the selected features, duration and total bytes do show some varying patterns over time that can be used to distinguish normal from malicious flows. Especially by using ngram models which can capture these patterns over time."
   ]
  },
  {
   "cell_type": "markdown",
   "metadata": {},
   "source": [
    "## Find the optimal number of bins for discretization\n",
    "\n",
    "- Use kmeans for discretization\n",
    "- Use the elbow method by plotting the within cluster sum of squares vs number of clusters\n",
    "- Use cluster labels as the discretized values\n",
    "- Sort the clusters according to the ordinal rank of the feature"
   ]
  },
  {
   "cell_type": "code",
   "execution_count": 26,
   "metadata": {},
   "outputs": [],
   "source": [
    "def visualize_discretization(feature, min_k=2, max_k=15):\n",
    "    distortions = {}\n",
    "    kmeans_models = {}\n",
    "    for k in tqdm(range(min_k, max_k)):\n",
    "        kmeans_model = KMeans(n_clusters=k)\n",
    "        kmeans_model.fit(feature)\n",
    "        kmeans_models[k] = kmeans_model\n",
    "        distortions[k] = kmeans_model.inertia_\n",
    "\n",
    "    plt.figure(figsize=(16,8))\n",
    "    plt.plot(range(min_k, max_k), list(distortions.values()), 'bx-')\n",
    "    plt.xlabel('k')\n",
    "    plt.ylabel('Distortion')\n",
    "    plt.title('The Elbow Method showing the optimal k')\n",
    "    plt.show()\n",
    "    \n",
    "    return kmeans_models, distortions"
   ]
  },
  {
   "cell_type": "code",
   "execution_count": 27,
   "metadata": {
    "scrolled": true
   },
   "outputs": [
    {
     "data": {
      "text/plain": [
       "1    122170\n",
       "0        29\n",
       "Name: sTos, dtype: int64"
      ]
     },
     "execution_count": 27,
     "metadata": {},
     "output_type": "execute_result"
    }
   ],
   "source": [
    "df_filtered[\"sTos\"].value_counts()"
   ]
  },
  {
   "cell_type": "markdown",
   "metadata": {},
   "source": [
    "### Discretization of TotBytes"
   ]
  },
  {
   "cell_type": "code",
   "execution_count": 28,
   "metadata": {},
   "outputs": [
    {
     "name": "stderr",
     "output_type": "stream",
     "text": [
      "/Users/nikilsaldanaha/Documents/University/q4/Cyber Data Analytics/project/cyber-data-analytics/Part-3/preprocessing.py:14: SettingWithCopyWarning: \n",
      "A value is trying to be set on a copy of a slice from a DataFrame.\n",
      "Try using .loc[row_indexer,col_indexer] = value instead\n",
      "\n",
      "See the caveats in the documentation: https://pandas.pydata.org/pandas-docs/stable/user_guide/indexing.html#returning-a-view-versus-a-copy\n",
      "  df[col] = enc.transform(df[col])\n"
     ]
    }
   ],
   "source": [
    "df_filtered, dir_enc = encode(df_filtered, \"Dir\")\n",
    "df_filtered, protocol_enc = encode(df_filtered, \"Proto\")"
   ]
  },
  {
   "cell_type": "code",
   "execution_count": 29,
   "metadata": {},
   "outputs": [
    {
     "name": "stderr",
     "output_type": "stream",
     "text": [
      "100%|██████████| 13/13 [00:19<00:00,  1.47s/it]\n"
     ]
    },
    {
     "data": {
      "image/png": "[encoded data removed]",
      "text/plain": [
       "<Figure size 1152x576 with 1 Axes>"
      ]
     },
     "metadata": {
      "needs_background": "light"
     },
     "output_type": "display_data"
    }
   ],
   "source": [
    "tot_bytes = df_filtered[\"TotBytes\"].to_numpy().reshape(-1, 1)\n",
    "kmeans_models, distortions = visualize_discretization(tot_bytes)"
   ]
  },
  {
   "cell_type": "markdown",
   "metadata": {},
   "source": [
    "Choosing k = 5"
   ]
  },
  {
   "cell_type": "code",
   "execution_count": 30,
   "metadata": {},
   "outputs": [
    {
     "name": "stderr",
     "output_type": "stream",
     "text": [
      "/Users/nikilsaldanaha/Documents/University/q4/Cyber Data Analytics/project/cyber-data-analytics/env/lib/python3.8/site-packages/pandas/core/indexing.py:845: SettingWithCopyWarning: \n",
      "A value is trying to be set on a copy of a slice from a DataFrame.\n",
      "Try using .loc[row_indexer,col_indexer] = value instead\n",
      "\n",
      "See the caveats in the documentation: https://pandas.pydata.org/pandas-docs/stable/user_guide/indexing.html#returning-a-view-versus-a-copy\n",
      "  self.obj[key] = _infer_fill_value(value)\n",
      "/Users/nikilsaldanaha/Documents/University/q4/Cyber Data Analytics/project/cyber-data-analytics/env/lib/python3.8/site-packages/pandas/core/indexing.py:966: SettingWithCopyWarning: \n",
      "A value is trying to be set on a copy of a slice from a DataFrame.\n",
      "Try using .loc[row_indexer,col_indexer] = value instead\n",
      "\n",
      "See the caveats in the documentation: https://pandas.pydata.org/pandas-docs/stable/user_guide/indexing.html#returning-a-view-versus-a-copy\n",
      "  self.obj[item] = s\n"
     ]
    }
   ],
   "source": [
    "# discretize\n",
    "df_filtered.loc[:, \"TotBytes_\"] = kmeans_models[4].predict(tot_bytes)"
   ]
  },
  {
   "cell_type": "code",
   "execution_count": 31,
   "metadata": {},
   "outputs": [
    {
     "data": {
      "text/plain": [
       "0    122006\n",
       "2       158\n",
       "3        25\n",
       "1        10\n",
       "Name: TotBytes_, dtype: int64"
      ]
     },
     "execution_count": 31,
     "metadata": {},
     "output_type": "execute_result"
    }
   ],
   "source": [
    "df_filtered.TotBytes_.value_counts()"
   ]
  },
  {
   "cell_type": "markdown",
   "metadata": {},
   "source": [
    "### Discretization of TotBytes"
   ]
  },
  {
   "cell_type": "code",
   "execution_count": 32,
   "metadata": {},
   "outputs": [
    {
     "name": "stderr",
     "output_type": "stream",
     "text": [
      "100%|██████████| 13/13 [00:22<00:00,  1.76s/it]\n"
     ]
    },
    {
     "data": {
      "image/png": "[encoded data removed]",
      "text/plain": [
       "<Figure size 1152x576 with 1 Axes>"
      ]
     },
     "metadata": {
      "needs_background": "light"
     },
     "output_type": "display_data"
    }
   ],
   "source": [
    "dur = df_filtered[\"Dur\"].to_numpy().reshape(-1, 1)\n",
    "kmeans_models, distortions = visualize_discretization(dur)"
   ]
  },
  {
   "cell_type": "markdown",
   "metadata": {},
   "source": [
    "Choosing k = 5"
   ]
  },
  {
   "cell_type": "code",
   "execution_count": 33,
   "metadata": {},
   "outputs": [
    {
     "name": "stderr",
     "output_type": "stream",
     "text": [
      "/Users/nikilsaldanaha/Documents/University/q4/Cyber Data Analytics/project/cyber-data-analytics/env/lib/python3.8/site-packages/pandas/core/indexing.py:845: SettingWithCopyWarning: \n",
      "A value is trying to be set on a copy of a slice from a DataFrame.\n",
      "Try using .loc[row_indexer,col_indexer] = value instead\n",
      "\n",
      "See the caveats in the documentation: https://pandas.pydata.org/pandas-docs/stable/user_guide/indexing.html#returning-a-view-versus-a-copy\n",
      "  self.obj[key] = _infer_fill_value(value)\n",
      "/Users/nikilsaldanaha/Documents/University/q4/Cyber Data Analytics/project/cyber-data-analytics/env/lib/python3.8/site-packages/pandas/core/indexing.py:966: SettingWithCopyWarning: \n",
      "A value is trying to be set on a copy of a slice from a DataFrame.\n",
      "Try using .loc[row_indexer,col_indexer] = value instead\n",
      "\n",
      "See the caveats in the documentation: https://pandas.pydata.org/pandas-docs/stable/user_guide/indexing.html#returning-a-view-versus-a-copy\n",
      "  self.obj[item] = s\n"
     ]
    }
   ],
   "source": [
    "# discretize\n",
    "df_filtered.loc[:, \"Dur_\"] = kmeans_models[5].predict(dur)"
   ]
  },
  {
   "cell_type": "code",
   "execution_count": 34,
   "metadata": {},
   "outputs": [
    {
     "data": {
      "text/plain": [
       "0    111308\n",
       "3      7280\n",
       "1      2172\n",
       "4      1307\n",
       "2       132\n",
       "Name: Dur_, dtype: int64"
      ]
     },
     "execution_count": 34,
     "metadata": {},
     "output_type": "execute_result"
    }
   ],
   "source": [
    "df_filtered.Dur_.value_counts()"
   ]
  },
  {
   "cell_type": "markdown",
   "metadata": {},
   "source": [
    "### Sort the clusters according to the ordinal rank of the features"
   ]
  },
  {
   "cell_type": "code",
   "execution_count": 35,
   "metadata": {},
   "outputs": [],
   "source": [
    "## order the total bytes discretized values according to its ordinal rank\n",
    "min_list = []\n",
    "for i in range(5):\n",
    "    min_list.append((i, df_filtered[df_filtered[\"TotBytes_\"] == i][\"TotBytes\"].describe()[\"min\"]))\n",
    "min_list = sorted(min_list, key=lambda x: x[1])\n",
    "\n",
    "cluster_indices = []\n",
    "for i in range(5):\n",
    "    cluster_indices.append(df_filtered[\"TotBytes_\"] == i)\n",
    "\n",
    "cluster_ordinal_map = {i: c[0] for i, c in enumerate(min_list)}\n",
    "\n",
    "for i, c in enumerate(min_list):\n",
    "    df_filtered.loc[cluster_indices[i], \"TotBytes_\"] = c[0]"
   ]
  },
  {
   "cell_type": "code",
   "execution_count": 36,
   "metadata": {},
   "outputs": [],
   "source": [
    "## order the duration discretized values according to its ordinal rank\n",
    "min_list = []\n",
    "for i in range(5):\n",
    "    min_list.append((i, df_filtered[df_filtered[\"Dur_\"] == i][\"Dur\"].describe()[\"min\"]))\n",
    "min_list = sorted(min_list, key=lambda x: x[1], reverse=True)\n",
    "\n",
    "cluster_indices = []\n",
    "for i in range(5):\n",
    "    cluster_indices.append(df_filtered[\"Dur_\"] == i)\n",
    "\n",
    "cluster_ordinal_map = {i: c[0] for i, c in enumerate(min_list)}\n",
    "\n",
    "for i, c in enumerate(min_list):\n",
    "    df_filtered.loc[cluster_indices[i], \"Dur_\"] = c[0]"
   ]
  },
  {
   "cell_type": "markdown",
   "metadata": {},
   "source": [
    "## 2. Encoding using Attributes Mapping algorithm\n",
    "\n",
    "_Algorithm 1 from [G. Pellegrino et.al. Learning Behavioral Fingerprints From Netflows Using Timed Automata](http://dl.ifip.org/db/conf/im/im2017/036.pdf)_\n",
    "\n",
    "We combine `TotBytes` and `Dur` using this algorithm"
   ]
  },
  {
   "cell_type": "code",
   "execution_count": 37,
   "metadata": {},
   "outputs": [],
   "source": [
    "num_bins = {\"TotBytes_\": 5, \"Dur_\": 5}"
   ]
  },
  {
   "cell_type": "code",
   "execution_count": 38,
   "metadata": {},
   "outputs": [],
   "source": [
    "def attribute_mapping_encode(row):\n",
    "    code = 0\n",
    "    features = row.index\n",
    "    space_size = reduce((lambda x, y: num_bins[x] * num_bins[y]), features)\n",
    "    for feature in features:\n",
    "        code = code + row[feature]*space_size/num_bins[feature]\n",
    "        space_size = space_size/num_bins[feature]\n",
    "    return code"
   ]
  },
  {
   "cell_type": "code",
   "execution_count": 39,
   "metadata": {
    "scrolled": true
   },
   "outputs": [
    {
     "name": "stderr",
     "output_type": "stream",
     "text": [
      "<ipython-input-39-72fae5463242>:1: SettingWithCopyWarning: \n",
      "A value is trying to be set on a copy of a slice from a DataFrame.\n",
      "Try using .loc[row_indexer,col_indexer] = value instead\n",
      "\n",
      "See the caveats in the documentation: https://pandas.pydata.org/pandas-docs/stable/user_guide/indexing.html#returning-a-view-versus-a-copy\n",
      "  df_filtered[\"TotBytes_Dur\"] = df_filtered[[\"TotBytes_\", \"Dur_\"]].apply(attribute_mapping_encode, axis=1)\n"
     ]
    }
   ],
   "source": [
    "df_filtered[\"TotBytes_Dur\"] = df_filtered[[\"TotBytes_\", \"Dur_\"]].apply(attribute_mapping_encode, axis=1)"
   ]
  },
  {
   "cell_type": "code",
   "execution_count": 42,
   "metadata": {},
   "outputs": [
    {
     "data": {
      "text/plain": [
       "<matplotlib.legend.Legend at 0x123ea0d90>"
      ]
     },
     "execution_count": 42,
     "metadata": {},
     "output_type": "execute_result"
    },
    {
     "data": {
      "image/png": "[encoded data removed]",
      "text/plain": [
       "<Figure size 1080x576 with 1 Axes>"
      ]
     },
     "metadata": {
      "needs_background": "light"
     },
     "output_type": "display_data"
    }
   ],
   "source": [
    "f, (ax1) = plt.subplots(1,1,figsize =(15, 8))\n",
    "\n",
    "ax1.set_title(\"Normalised Distribution of discretized feature for Botnet and Normal Flows\")\n",
    "sns.distplot(df_filtered[(df_filtered[\"Label\"] == 0)][\"TotBytes_Dur\"], kde=False, ax=ax1, bins=100, label=\"Normal\", norm_hist=True)\n",
    "sns.distplot(df_filtered[(df_filtered[\"Label\"] == 1)][\"TotBytes_Dur\"], kde=False, ax=ax1, bins=100, label=\"Botnet\", norm_hist=True, color='red')\n",
    "ax1.legend()\n"
   ]
  },
  {
   "cell_type": "code",
   "execution_count": 43,
   "metadata": {},
   "outputs": [
    {
     "name": "stdout",
     "output_type": "stream",
     "text": [
      "Spearmans correlation coefficient: 0.106\n",
      "Samples are correlated (reject H0) p=0.000\n"
     ]
    }
   ],
   "source": [
    "coef, p = spearmanr(df_filtered[\"Label\"], df_filtered[\"TotBytes_Dur\"])\n",
    "print('Spearmans correlation coefficient: %.3f' % coef)\n",
    "# interpret the significance\n",
    "alpha = 0.05\n",
    "if p > alpha:\n",
    "    print('Samples are uncorrelated (fail to reject H0) p=%.3f' % p)\n",
    "else:\n",
    "    print('Samples are correlated (reject H0) p=%.3f' % p)"
   ]
  },
  {
   "cell_type": "markdown",
   "metadata": {},
   "source": [
    "We have saved required discretisations separately under `data/utils/discretized_scenario_<scenario_number>.csv` but for you we will dump in a temporary .csv"
   ]
  },
  {
   "cell_type": "code",
   "execution_count": null,
   "metadata": {},
   "outputs": [],
   "source": [
    "df_filtered.to_csv(\"data/_TotBytes_Dur_discretized.csv\", index=False)"
   ]
  },
  {
   "cell_type": "code",
   "execution_count": 44,
   "metadata": {},
   "outputs": [
    {
     "data": {
      "text/plain": [
       "<matplotlib.legend.Legend at 0x128958ee0>"
      ]
     },
     "execution_count": 44,
     "metadata": {},
     "output_type": "execute_result"
    },
    {
     "data": {
      "image/png": "[encoded data removed]",
      "text/plain": [
       "<Figure size 1584x576 with 1 Axes>"
      ]
     },
     "metadata": {
      "needs_background": "light"
     },
     "output_type": "display_data"
    }
   ],
   "source": [
    "f, (ax) = plt.subplots(1,figsize =(22, 8))\n",
    "plt.scatter(x=df_filtered.loc[df_filtered[\"Label\"] == 0].index, y=df_filtered.loc[df_filtered[\"Label\"] == 0, \"TotBytes_Dur\"], color=\"blue\", label=\"normal flow\")\n",
    "plt.scatter(x=df_filtered.loc[df_filtered[\"Label\"] == 1].index, y=df_filtered.loc[df_filtered[\"Label\"] == 1, \"TotBytes_Dur\"], color=\"red\", label=\"malicious flow\")\n",
    "ax.set_title(\"Discretized feature(Total Bytes + Duration) vs. Time\")\n",
    "ax.set_xlabel(\"Time\")\n",
    "ax.set_ylabel(\"TotBytes_Dur\")\n",
    "ax.legend()"
   ]
  },
  {
   "cell_type": "markdown",
   "metadata": {},
   "source": [
    "**Do you observe any behavior in the two features that could be useful for detecting the infection?**\n",
    "\n",
    "The values of \"TotBytes_Dur\" is distributed only in a few discretized values for botnet (red) whereas for the normal flows, they are more widely distributed. This would lead to a difference in ngram distributions allowing us to detect the infection"
   ]
  }
 ],
 "metadata": {
  "kernelspec": {
   "display_name": "Python 3.8.2 64-bit ('env': venv)",
   "language": "python",
   "name": "python38264bitenvvenv7b9860dd079f4740a146ad2038fa480b"
  },
  "language_info": {
   "codemirror_mode": {
    "name": "ipython",
    "version": 3
   },
   "file_extension": ".py",
   "mimetype": "text/x-python",
   "name": "python",
   "nbconvert_exporter": "python",
   "pygments_lexer": "ipython3",
   "version": "3.8.2"
  }
 },
 "nbformat": 4,
 "nbformat_minor": 4
}
