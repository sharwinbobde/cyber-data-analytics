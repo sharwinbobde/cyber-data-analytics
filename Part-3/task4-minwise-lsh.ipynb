{
 "cells": [
  {
   "cell_type": "code",
   "execution_count": 1,
   "metadata": {},
   "outputs": [],
   "source": [
    "import pandas as pd"
   ]
  },
  {
   "cell_type": "code",
   "execution_count": 3,
   "metadata": {},
   "outputs": [],
   "source": [
    "df = pd.read_csv(\"data/TotBytes_Dur_discretized.csv\")"
   ]
  },
  {
   "cell_type": "code",
   "execution_count": 13,
   "metadata": {},
   "outputs": [],
   "source": [
    "from nltk import ngrams"
   ]
  },
  {
   "cell_type": "code",
   "execution_count": 51,
   "metadata": {},
   "outputs": [],
   "source": [
    "from sklearn.preprocessing import LabelEncoder, OneHotEncoder"
   ]
  },
  {
   "cell_type": "code",
   "execution_count": 55,
   "metadata": {},
   "outputs": [],
   "source": [
    "import numpy as np"
   ]
  },
  {
   "cell_type": "code",
   "execution_count": 212,
   "metadata": {},
   "outputs": [
    {
     "name": "stderr",
     "output_type": "stream",
     "text": [
      "<ipython-input-212-9d708b59720f>:6: DeprecationWarning: The default dtype for empty Series will be 'object' instead of 'float64' in a future version. Specify a dtype explicitly to silence this warning.\n",
      "  ohe_df = pd.get_dummies(pd.Series(ng))\n"
     ]
    }
   ],
   "source": [
    "ohe_dfs = []\n",
    "for (src, dst), indexes in df[[\"SrcAddr\", \"DstAddr\", \"TotBytes_Dur\"]].groupby([\"SrcAddr\", \"DstAddr\"]).groups.items():\n",
    "    group_df = df.loc[indexes]\n",
    "    ng = set(ngrams(group_df[\"TotBytes_Dur\"], 3))\n",
    "    ng = list(map(str, ng))\n",
    "    ohe_df = pd.get_dummies(pd.Series(ng))\n",
    "    # ohe_df = ohe_df.assign(SrcAddr=src, DstAddr=dst)\n",
    "    ohe_dfs.append(ohe_df)"
   ]
  },
  {
   "cell_type": "code",
   "execution_count": 217,
   "metadata": {},
   "outputs": [],
   "source": [
    "profile_df = pd.concat(ohe_dfs).fillna(0)"
   ]
  },
  {
   "cell_type": "code",
   "execution_count": 218,
   "metadata": {},
   "outputs": [
    {
     "data": {
      "text/html": [
       "<div>\n",
       "<style scoped>\n",
       "    .dataframe tbody tr th:only-of-type {\n",
       "        vertical-align: middle;\n",
       "    }\n",
       "\n",
       "    .dataframe tbody tr th {\n",
       "        vertical-align: top;\n",
       "    }\n",
       "\n",
       "    .dataframe thead th {\n",
       "        text-align: right;\n",
       "    }\n",
       "</style>\n",
       "<table border=\"1\" class=\"dataframe\">\n",
       "  <thead>\n",
       "    <tr style=\"text-align: right;\">\n",
       "      <th></th>\n",
       "      <th>(3.0, 3.0, 3.0)</th>\n",
       "      <th>(8.0, 3.0, 3.0)</th>\n",
       "      <th>(3.0, 3.0, 8.0)</th>\n",
       "      <th>(3.0, 8.0, 3.0)</th>\n",
       "      <th>(8.0, 3.0, 8.0)</th>\n",
       "      <th>(8.0, 8.0, 3.0)</th>\n",
       "      <th>(8.0, 8.0, 8.0)</th>\n",
       "      <th>(13.0, 8.0, 3.0)</th>\n",
       "      <th>(3.0, 13.0, 8.0)</th>\n",
       "      <th>(8.0, 3.0, 13.0)</th>\n",
       "      <th>...</th>\n",
       "      <th>(8.0, 16.0, 12.0)</th>\n",
       "      <th>(4.0, 7.0, 3.0)</th>\n",
       "      <th>(9.0, 4.0, 7.0)</th>\n",
       "      <th>(7.0, 9.0, 9.0)</th>\n",
       "      <th>(9.0, 7.0, 9.0)</th>\n",
       "      <th>(12.0, 12.0, 14.0)</th>\n",
       "      <th>(12.0, 14.0, 14.0)</th>\n",
       "      <th>(14.0, 14.0, 12.0)</th>\n",
       "      <th>(2.0, 4.0, 2.0)</th>\n",
       "      <th>(4.0, 2.0, 4.0)</th>\n",
       "    </tr>\n",
       "  </thead>\n",
       "  <tbody>\n",
       "    <tr>\n",
       "      <th>0</th>\n",
       "      <td>1.0</td>\n",
       "      <td>0.0</td>\n",
       "      <td>0.0</td>\n",
       "      <td>0.0</td>\n",
       "      <td>0.0</td>\n",
       "      <td>0.0</td>\n",
       "      <td>0.0</td>\n",
       "      <td>0.0</td>\n",
       "      <td>0.0</td>\n",
       "      <td>0.0</td>\n",
       "      <td>...</td>\n",
       "      <td>0.0</td>\n",
       "      <td>0.0</td>\n",
       "      <td>0.0</td>\n",
       "      <td>0.0</td>\n",
       "      <td>0.0</td>\n",
       "      <td>0.0</td>\n",
       "      <td>0.0</td>\n",
       "      <td>0.0</td>\n",
       "      <td>0.0</td>\n",
       "      <td>0.0</td>\n",
       "    </tr>\n",
       "    <tr>\n",
       "      <th>0</th>\n",
       "      <td>1.0</td>\n",
       "      <td>0.0</td>\n",
       "      <td>0.0</td>\n",
       "      <td>0.0</td>\n",
       "      <td>0.0</td>\n",
       "      <td>0.0</td>\n",
       "      <td>0.0</td>\n",
       "      <td>0.0</td>\n",
       "      <td>0.0</td>\n",
       "      <td>0.0</td>\n",
       "      <td>...</td>\n",
       "      <td>0.0</td>\n",
       "      <td>0.0</td>\n",
       "      <td>0.0</td>\n",
       "      <td>0.0</td>\n",
       "      <td>0.0</td>\n",
       "      <td>0.0</td>\n",
       "      <td>0.0</td>\n",
       "      <td>0.0</td>\n",
       "      <td>0.0</td>\n",
       "      <td>0.0</td>\n",
       "    </tr>\n",
       "    <tr>\n",
       "      <th>0</th>\n",
       "      <td>1.0</td>\n",
       "      <td>0.0</td>\n",
       "      <td>0.0</td>\n",
       "      <td>0.0</td>\n",
       "      <td>0.0</td>\n",
       "      <td>0.0</td>\n",
       "      <td>0.0</td>\n",
       "      <td>0.0</td>\n",
       "      <td>0.0</td>\n",
       "      <td>0.0</td>\n",
       "      <td>...</td>\n",
       "      <td>0.0</td>\n",
       "      <td>0.0</td>\n",
       "      <td>0.0</td>\n",
       "      <td>0.0</td>\n",
       "      <td>0.0</td>\n",
       "      <td>0.0</td>\n",
       "      <td>0.0</td>\n",
       "      <td>0.0</td>\n",
       "      <td>0.0</td>\n",
       "      <td>0.0</td>\n",
       "    </tr>\n",
       "    <tr>\n",
       "      <th>0</th>\n",
       "      <td>1.0</td>\n",
       "      <td>0.0</td>\n",
       "      <td>0.0</td>\n",
       "      <td>0.0</td>\n",
       "      <td>0.0</td>\n",
       "      <td>0.0</td>\n",
       "      <td>0.0</td>\n",
       "      <td>0.0</td>\n",
       "      <td>0.0</td>\n",
       "      <td>0.0</td>\n",
       "      <td>...</td>\n",
       "      <td>0.0</td>\n",
       "      <td>0.0</td>\n",
       "      <td>0.0</td>\n",
       "      <td>0.0</td>\n",
       "      <td>0.0</td>\n",
       "      <td>0.0</td>\n",
       "      <td>0.0</td>\n",
       "      <td>0.0</td>\n",
       "      <td>0.0</td>\n",
       "      <td>0.0</td>\n",
       "    </tr>\n",
       "    <tr>\n",
       "      <th>0</th>\n",
       "      <td>1.0</td>\n",
       "      <td>0.0</td>\n",
       "      <td>0.0</td>\n",
       "      <td>0.0</td>\n",
       "      <td>0.0</td>\n",
       "      <td>0.0</td>\n",
       "      <td>0.0</td>\n",
       "      <td>0.0</td>\n",
       "      <td>0.0</td>\n",
       "      <td>0.0</td>\n",
       "      <td>...</td>\n",
       "      <td>0.0</td>\n",
       "      <td>0.0</td>\n",
       "      <td>0.0</td>\n",
       "      <td>0.0</td>\n",
       "      <td>0.0</td>\n",
       "      <td>0.0</td>\n",
       "      <td>0.0</td>\n",
       "      <td>0.0</td>\n",
       "      <td>0.0</td>\n",
       "      <td>0.0</td>\n",
       "    </tr>\n",
       "    <tr>\n",
       "      <th>...</th>\n",
       "      <td>...</td>\n",
       "      <td>...</td>\n",
       "      <td>...</td>\n",
       "      <td>...</td>\n",
       "      <td>...</td>\n",
       "      <td>...</td>\n",
       "      <td>...</td>\n",
       "      <td>...</td>\n",
       "      <td>...</td>\n",
       "      <td>...</td>\n",
       "      <td>...</td>\n",
       "      <td>...</td>\n",
       "      <td>...</td>\n",
       "      <td>...</td>\n",
       "      <td>...</td>\n",
       "      <td>...</td>\n",
       "      <td>...</td>\n",
       "      <td>...</td>\n",
       "      <td>...</td>\n",
       "      <td>...</td>\n",
       "      <td>...</td>\n",
       "    </tr>\n",
       "    <tr>\n",
       "      <th>0</th>\n",
       "      <td>0.0</td>\n",
       "      <td>0.0</td>\n",
       "      <td>0.0</td>\n",
       "      <td>0.0</td>\n",
       "      <td>0.0</td>\n",
       "      <td>0.0</td>\n",
       "      <td>0.0</td>\n",
       "      <td>0.0</td>\n",
       "      <td>0.0</td>\n",
       "      <td>0.0</td>\n",
       "      <td>...</td>\n",
       "      <td>0.0</td>\n",
       "      <td>0.0</td>\n",
       "      <td>0.0</td>\n",
       "      <td>0.0</td>\n",
       "      <td>0.0</td>\n",
       "      <td>0.0</td>\n",
       "      <td>0.0</td>\n",
       "      <td>0.0</td>\n",
       "      <td>0.0</td>\n",
       "      <td>0.0</td>\n",
       "    </tr>\n",
       "    <tr>\n",
       "      <th>1</th>\n",
       "      <td>0.0</td>\n",
       "      <td>0.0</td>\n",
       "      <td>0.0</td>\n",
       "      <td>0.0</td>\n",
       "      <td>0.0</td>\n",
       "      <td>0.0</td>\n",
       "      <td>0.0</td>\n",
       "      <td>0.0</td>\n",
       "      <td>0.0</td>\n",
       "      <td>0.0</td>\n",
       "      <td>...</td>\n",
       "      <td>0.0</td>\n",
       "      <td>0.0</td>\n",
       "      <td>0.0</td>\n",
       "      <td>0.0</td>\n",
       "      <td>0.0</td>\n",
       "      <td>0.0</td>\n",
       "      <td>0.0</td>\n",
       "      <td>0.0</td>\n",
       "      <td>0.0</td>\n",
       "      <td>0.0</td>\n",
       "    </tr>\n",
       "    <tr>\n",
       "      <th>2</th>\n",
       "      <td>0.0</td>\n",
       "      <td>0.0</td>\n",
       "      <td>0.0</td>\n",
       "      <td>0.0</td>\n",
       "      <td>0.0</td>\n",
       "      <td>0.0</td>\n",
       "      <td>0.0</td>\n",
       "      <td>0.0</td>\n",
       "      <td>0.0</td>\n",
       "      <td>0.0</td>\n",
       "      <td>...</td>\n",
       "      <td>0.0</td>\n",
       "      <td>0.0</td>\n",
       "      <td>0.0</td>\n",
       "      <td>0.0</td>\n",
       "      <td>0.0</td>\n",
       "      <td>0.0</td>\n",
       "      <td>0.0</td>\n",
       "      <td>0.0</td>\n",
       "      <td>0.0</td>\n",
       "      <td>0.0</td>\n",
       "    </tr>\n",
       "    <tr>\n",
       "      <th>3</th>\n",
       "      <td>0.0</td>\n",
       "      <td>0.0</td>\n",
       "      <td>0.0</td>\n",
       "      <td>0.0</td>\n",
       "      <td>0.0</td>\n",
       "      <td>0.0</td>\n",
       "      <td>0.0</td>\n",
       "      <td>0.0</td>\n",
       "      <td>0.0</td>\n",
       "      <td>0.0</td>\n",
       "      <td>...</td>\n",
       "      <td>0.0</td>\n",
       "      <td>0.0</td>\n",
       "      <td>0.0</td>\n",
       "      <td>0.0</td>\n",
       "      <td>0.0</td>\n",
       "      <td>0.0</td>\n",
       "      <td>0.0</td>\n",
       "      <td>0.0</td>\n",
       "      <td>0.0</td>\n",
       "      <td>0.0</td>\n",
       "    </tr>\n",
       "    <tr>\n",
       "      <th>0</th>\n",
       "      <td>0.0</td>\n",
       "      <td>0.0</td>\n",
       "      <td>0.0</td>\n",
       "      <td>0.0</td>\n",
       "      <td>0.0</td>\n",
       "      <td>0.0</td>\n",
       "      <td>0.0</td>\n",
       "      <td>0.0</td>\n",
       "      <td>0.0</td>\n",
       "      <td>0.0</td>\n",
       "      <td>...</td>\n",
       "      <td>0.0</td>\n",
       "      <td>0.0</td>\n",
       "      <td>0.0</td>\n",
       "      <td>0.0</td>\n",
       "      <td>0.0</td>\n",
       "      <td>0.0</td>\n",
       "      <td>0.0</td>\n",
       "      <td>0.0</td>\n",
       "      <td>0.0</td>\n",
       "      <td>0.0</td>\n",
       "    </tr>\n",
       "  </tbody>\n",
       "</table>\n",
       "<p>1993 rows × 367 columns</p>\n",
       "</div>"
      ],
      "text/plain": [
       "    (3.0, 3.0, 3.0)  (8.0, 3.0, 3.0)  (3.0, 3.0, 8.0)  (3.0, 8.0, 3.0)  \\\n",
       "0               1.0              0.0              0.0              0.0   \n",
       "0               1.0              0.0              0.0              0.0   \n",
       "0               1.0              0.0              0.0              0.0   \n",
       "0               1.0              0.0              0.0              0.0   \n",
       "0               1.0              0.0              0.0              0.0   \n",
       "..              ...              ...              ...              ...   \n",
       "0               0.0              0.0              0.0              0.0   \n",
       "1               0.0              0.0              0.0              0.0   \n",
       "2               0.0              0.0              0.0              0.0   \n",
       "3               0.0              0.0              0.0              0.0   \n",
       "0               0.0              0.0              0.0              0.0   \n",
       "\n",
       "    (8.0, 3.0, 8.0)  (8.0, 8.0, 3.0)  (8.0, 8.0, 8.0)  (13.0, 8.0, 3.0)  \\\n",
       "0               0.0              0.0              0.0               0.0   \n",
       "0               0.0              0.0              0.0               0.0   \n",
       "0               0.0              0.0              0.0               0.0   \n",
       "0               0.0              0.0              0.0               0.0   \n",
       "0               0.0              0.0              0.0               0.0   \n",
       "..              ...              ...              ...               ...   \n",
       "0               0.0              0.0              0.0               0.0   \n",
       "1               0.0              0.0              0.0               0.0   \n",
       "2               0.0              0.0              0.0               0.0   \n",
       "3               0.0              0.0              0.0               0.0   \n",
       "0               0.0              0.0              0.0               0.0   \n",
       "\n",
       "    (3.0, 13.0, 8.0)  (8.0, 3.0, 13.0)  ...  (8.0, 16.0, 12.0)  \\\n",
       "0                0.0               0.0  ...                0.0   \n",
       "0                0.0               0.0  ...                0.0   \n",
       "0                0.0               0.0  ...                0.0   \n",
       "0                0.0               0.0  ...                0.0   \n",
       "0                0.0               0.0  ...                0.0   \n",
       "..               ...               ...  ...                ...   \n",
       "0                0.0               0.0  ...                0.0   \n",
       "1                0.0               0.0  ...                0.0   \n",
       "2                0.0               0.0  ...                0.0   \n",
       "3                0.0               0.0  ...                0.0   \n",
       "0                0.0               0.0  ...                0.0   \n",
       "\n",
       "    (4.0, 7.0, 3.0)  (9.0, 4.0, 7.0)  (7.0, 9.0, 9.0)  (9.0, 7.0, 9.0)  \\\n",
       "0               0.0              0.0              0.0              0.0   \n",
       "0               0.0              0.0              0.0              0.0   \n",
       "0               0.0              0.0              0.0              0.0   \n",
       "0               0.0              0.0              0.0              0.0   \n",
       "0               0.0              0.0              0.0              0.0   \n",
       "..              ...              ...              ...              ...   \n",
       "0               0.0              0.0              0.0              0.0   \n",
       "1               0.0              0.0              0.0              0.0   \n",
       "2               0.0              0.0              0.0              0.0   \n",
       "3               0.0              0.0              0.0              0.0   \n",
       "0               0.0              0.0              0.0              0.0   \n",
       "\n",
       "    (12.0, 12.0, 14.0)  (12.0, 14.0, 14.0)  (14.0, 14.0, 12.0)  \\\n",
       "0                  0.0                 0.0                 0.0   \n",
       "0                  0.0                 0.0                 0.0   \n",
       "0                  0.0                 0.0                 0.0   \n",
       "0                  0.0                 0.0                 0.0   \n",
       "0                  0.0                 0.0                 0.0   \n",
       "..                 ...                 ...                 ...   \n",
       "0                  0.0                 0.0                 0.0   \n",
       "1                  0.0                 0.0                 0.0   \n",
       "2                  0.0                 0.0                 0.0   \n",
       "3                  0.0                 0.0                 0.0   \n",
       "0                  0.0                 0.0                 0.0   \n",
       "\n",
       "    (2.0, 4.0, 2.0)  (4.0, 2.0, 4.0)  \n",
       "0               0.0              0.0  \n",
       "0               0.0              0.0  \n",
       "0               0.0              0.0  \n",
       "0               0.0              0.0  \n",
       "0               0.0              0.0  \n",
       "..              ...              ...  \n",
       "0               0.0              0.0  \n",
       "1               0.0              0.0  \n",
       "2               0.0              0.0  \n",
       "3               0.0              0.0  \n",
       "0               0.0              0.0  \n",
       "\n",
       "[1993 rows x 367 columns]"
      ]
     },
     "execution_count": 218,
     "metadata": {},
     "output_type": "execute_result"
    }
   ],
   "source": [
    "profile_df"
   ]
  },
  {
   "cell_type": "code",
   "execution_count": 242,
   "metadata": {},
   "outputs": [],
   "source": [
    "profile = profile_df.to_numpy()"
   ]
  },
  {
   "cell_type": "markdown",
   "metadata": {},
   "source": [
    "### Transpose profile to have IPs as the columns"
   ]
  },
  {
   "cell_type": "code",
   "execution_count": 243,
   "metadata": {},
   "outputs": [],
   "source": [
    "profile = profile.T"
   ]
  },
  {
   "cell_type": "code",
   "execution_count": 232,
   "metadata": {},
   "outputs": [],
   "source": [
    "from itertools import permutations"
   ]
  },
  {
   "cell_type": "code",
   "execution_count": 249,
   "metadata": {},
   "outputs": [],
   "source": [
    "# create permutations\n",
    "perm = list(permutations([i for i in range(367)], 2))"
   ]
  },
  {
   "cell_type": "code",
   "execution_count": 253,
   "metadata": {},
   "outputs": [],
   "source": [
    "from tqdm import tqdm"
   ]
  },
  {
   "cell_type": "markdown",
   "metadata": {},
   "source": [
    "## Jaccard Similarity of columns"
   ]
  },
  {
   "cell_type": "code",
   "execution_count": 254,
   "metadata": {},
   "outputs": [
    {
     "name": "stderr",
     "output_type": "stream",
     "text": [
      "100%|██████████| 134322/134322 [01:07<00:00, 1984.69it/s]\n"
     ]
    }
   ],
   "source": [
    "jacc = []\n",
    "for p in tqdm(perm):\n",
    "    p1 = profile[:, p[0]]\n",
    "    p2 = profile[:, p[1]]\n",
    "    intersection = 0\n",
    "    union = 0\n",
    "    for i in range(profile.shape[0]):\n",
    "        if p1[i] == 1:\n",
    "            union += 1\n",
    "            if p2[i] == 1:\n",
    "                intersection += 1\n",
    "        elif p2[i] == 1:\n",
    "            union += 1\n",
    "            if p1[i] == 1:\n",
    "                intersection += 1\n",
    "    jacc.append(intersection/union)"
   ]
  },
  {
   "cell_type": "code",
   "execution_count": 185,
   "metadata": {},
   "outputs": [],
   "source": [
    "from collections import defaultdict"
   ]
  },
  {
   "cell_type": "code",
   "execution_count": 201,
   "metadata": {},
   "outputs": [],
   "source": [
    "from math import ceil, log2\n",
    "from primesieve import nth_prime\n",
    "from random import randint\n",
    "\n",
    "class UniversalHashing:\n",
    "    \"\"\"\n",
    "    N = #bins\n",
    "    p = prime number st: p >= N\n",
    "    \"\"\"\n",
    "    def __init__(self, N, p = None):\n",
    "        self.N = N\n",
    "        if p is None:\n",
    "            p = nth_prime(1, 1 << max(32, ceil(log2(N))))\n",
    "        assert p >= N, 'Prime number p should be at least N!'\n",
    "        self.p = p\n",
    "\n",
    "    def draw(self):\n",
    "        a = randint(1, self.p - 1)\n",
    "        b = randint(0, self.p - 1)\n",
    "        return lambda x: ((a * x + b) % self.p) % self.N"
   ]
  },
  {
   "cell_type": "code",
   "execution_count": 202,
   "metadata": {},
   "outputs": [],
   "source": [
    "# bins\n",
    "N = 50"
   ]
  },
  {
   "cell_type": "code",
   "execution_count": 222,
   "metadata": {},
   "outputs": [],
   "source": [
    "num_hash_fns = 100\n",
    "H = UniversalHashing(50)\n",
    "hash_fns = []\n",
    "for i in range(num_hash_fns):\n",
    "    hash_fns.append(H.draw())\n",
    "h = defaultdict(dict)\n",
    "M = np.full([num_hash_fns, profile.shape[1]], np.inf)\n",
    "for r in range(profile.shape[0]):\n",
    "    # compute hash values\n",
    "    for i, h_i in enumerate(hash_fns):\n",
    "        # compute h_i(profile[r])\n",
    "        h[i][r] = h_i(r)\n",
    "    for c in range(profile.shape[1]):\n",
    "        if profile[r, c] == 1:\n",
    "            for i in range(num_hash_fns):\n",
    "                if h[i][r] < M[i, c]:\n",
    "                    M[i, c] = h[i][r]"
   ]
  },
  {
   "cell_type": "markdown",
   "metadata": {},
   "source": [
    "## Signature Similarity"
   ]
  },
  {
   "cell_type": "code",
   "execution_count": 256,
   "metadata": {},
   "outputs": [
    {
     "name": "stderr",
     "output_type": "stream",
     "text": [
      "100%|██████████| 134322/134322 [00:08<00:00, 14990.84it/s]\n"
     ]
    }
   ],
   "source": [
    "sig_sim = []\n",
    "for p in tqdm(perm):\n",
    "    p1 = M[:, p[0]]\n",
    "    p2 = M[:, p[1]]\n",
    "    sim = 0\n",
    "    tot = M.shape[0]\n",
    "    for i in range(M.shape[0]):\n",
    "        if p1[i] == p2[i]:\n",
    "            sim += 1\n",
    "    sig_sim.append(sim/tot)"
   ]
  },
  {
   "cell_type": "code",
   "execution_count": 258,
   "metadata": {},
   "outputs": [],
   "source": [
    "import math"
   ]
  },
  {
   "cell_type": "markdown",
   "metadata": {},
   "source": [
    "### Compute Error of estimation"
   ]
  },
  {
   "cell_type": "code",
   "execution_count": 260,
   "metadata": {},
   "outputs": [],
   "source": [
    "errors = [math.sqrt((s - j)**2) for s, j in zip(sig_sim, jacc)]"
   ]
  },
  {
   "cell_type": "code",
   "execution_count": 265,
   "metadata": {},
   "outputs": [
    {
     "data": {
      "text/plain": [
       "0.01604711067434256"
      ]
     },
     "execution_count": 265,
     "metadata": {},
     "output_type": "execute_result"
    }
   ],
   "source": [
    "sum(errors)/len(errors)"
   ]
  }
 ],
 "metadata": {
  "kernelspec": {
   "display_name": "Python 3.8.2 64-bit ('env': venv)",
   "language": "python",
   "name": "python38264bitenvvenv7b9860dd079f4740a146ad2038fa480b"
  },
  "language_info": {
   "codemirror_mode": {
    "name": "ipython",
    "version": 3
   },
   "file_extension": ".py",
   "mimetype": "text/x-python",
   "name": "python",
   "nbconvert_exporter": "python",
   "pygments_lexer": "ipython3",
   "version": "3.8.2"
  }
 },
 "nbformat": 4,
 "nbformat_minor": 4
}
